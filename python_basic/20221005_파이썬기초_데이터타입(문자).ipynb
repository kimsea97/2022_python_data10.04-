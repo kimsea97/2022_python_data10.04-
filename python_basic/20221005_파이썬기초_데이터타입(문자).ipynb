{
 "cells": [
  {
   "cell_type": "markdown",
   "id": "46950e9a",
   "metadata": {},
   "source": [
    "# 데이터 타입\n",
    "# 문자형"
   ]
  },
  {
   "cell_type": "markdown",
   "id": "54e9692b",
   "metadata": {},
   "source": [
    "# > 생성하기\n",
    "> 여닫는 따움표는 반드시 문자의 앞 뒤에서 한 쌍으로 완성해야 한다.\n",
    "### 1) 한 줄 문자열 : ',\""
   ]
  },
  {
   "cell_type": "code",
   "execution_count": 2,
   "id": "acf940d5",
   "metadata": {},
   "outputs": [
    {
     "data": {
      "text/plain": [
       "123"
      ]
     },
     "execution_count": 2,
     "metadata": {},
     "output_type": "execute_result"
    }
   ],
   "source": [
    "'123'"
   ]
  },
  {
   "cell_type": "code",
   "execution_count": 5,
   "id": "db66725d",
   "metadata": {},
   "outputs": [
    {
     "ename": "SyntaxError",
     "evalue": "EOL while scanning string literal (3589106398.py, line 1)",
     "output_type": "error",
     "traceback": [
      "\u001b[1;36m  Input \u001b[1;32mIn [5]\u001b[1;36m\u001b[0m\n\u001b[1;33m    '안녕\u001b[0m\n\u001b[1;37m        ^\u001b[0m\n\u001b[1;31mSyntaxError\u001b[0m\u001b[1;31m:\u001b[0m EOL while scanning string literal\n"
     ]
    }
   ],
   "source": [
    "'안녕 \n",
    "반가워'"
   ]
  },
  {
   "cell_type": "code",
   "execution_count": 10,
   "id": "a6a21a81",
   "metadata": {},
   "outputs": [
    {
     "name": "stdout",
     "output_type": "stream",
     "text": [
      "안녕 \n",
      "반가워\n"
     ]
    }
   ],
   "source": [
    "a = '안녕 \\n반가워'\n",
    "print(a)"
   ]
  },
  {
   "cell_type": "markdown",
   "id": "7f4ce8e7",
   "metadata": {},
   "source": [
    "# 2) 여러 줄 문자열 : '''('x3) , \"\"\"('x3)\n",
    "- print () 했을 때 enter(줄바꿈)이 그대로 반영되는 문자열로 처리 가능.\n",
    "- 단 화면에서 보기를 하면(print 없이 주피터노트북 결과로 보면)\n",
    "- 줄바꿈이 바로 나타나지 않고 \\n으로 처리된다.\n"
   ]
  },
  {
   "cell_type": "code",
   "execution_count": 11,
   "id": "05c9e94b",
   "metadata": {
    "scrolled": true
   },
   "outputs": [
    {
     "name": "stdout",
     "output_type": "stream",
     "text": [
      "안녕\n",
      "반가워\n"
     ]
    }
   ],
   "source": [
    "a = \"\"\"안녕\n",
    "반가워\"\"\"\n",
    "print(a)"
   ]
  },
  {
   "cell_type": "code",
   "execution_count": 12,
   "id": "6ead574e",
   "metadata": {},
   "outputs": [
    {
     "data": {
      "text/plain": [
       "'안녕\\n반가워'"
      ]
     },
     "execution_count": 12,
     "metadata": {},
     "output_type": "execute_result"
    }
   ],
   "source": [
    "a"
   ]
  },
  {
   "cell_type": "markdown",
   "id": "ce3230b1",
   "metadata": {},
   "source": [
    "### 3) 문자 속에 문자열 기호 사용하기\n",
    "- 문자열에서 자주 쓰는 기호 : ',\""
   ]
  },
  {
   "cell_type": "code",
   "execution_count": 14,
   "id": "83ebba6c",
   "metadata": {},
   "outputs": [
    {
     "name": "stdout",
     "output_type": "stream",
     "text": [
      "she's happy.\n"
     ]
    }
   ],
   "source": [
    "# 언어, 문자에서 많이 쓰이는 기호 : she's, \"설렁탕을 사왔는데 왜 먹지를 못하나...\"\n",
    "a = \"she's happy.\"\n",
    "print(a)"
   ]
  },
  {
   "cell_type": "code",
   "execution_count": 18,
   "id": "630c38a6",
   "metadata": {
    "scrolled": true
   },
   "outputs": [
    {
     "name": "stdout",
     "output_type": "stream",
     "text": [
      "오늘은 \"미세먼지\" 좋음.\n"
     ]
    }
   ],
   "source": [
    "title ='오늘은 \"미세먼지\" 좋음.'\n",
    "print(title)"
   ]
  },
  {
   "cell_type": "code",
   "execution_count": 23,
   "id": "f3e614af",
   "metadata": {},
   "outputs": [
    {
     "name": "stdout",
     "output_type": "stream",
     "text": [
      "\"he's sad.\"\n"
     ]
    }
   ],
   "source": [
    "# 같은 종류의 따옴표 내부에서 무자 따옴표를 쓸 때는\n",
    "#따옴표 왼쪽에 \\를 붙여 해당 따옴표가 여닫는 용도로 쓰이지 않았음을 보여줘도 됩니다.\n",
    "b = \"\\\"he's sad.\\\"\"\n",
    "print(b)"
   ]
  },
  {
   "cell_type": "code",
   "execution_count": 28,
   "id": "4790e0c7",
   "metadata": {},
   "outputs": [
    {
     "name": "stdout",
     "output_type": "stream",
     "text": [
      "aaaaaaaaaaaaaaaaaaaaaaaaaaaaaaaaaaaaaaaaaaaaaaaaaaaaaaaaaaaaaaaaaaaaaaaaaaaaaaaaaaaaaaaaaaaaaaaaaaaaaaaaaaaaaaaaaaaaaaaaaaaaaaaaaaaaaa\n"
     ]
    }
   ],
   "source": [
    "# 만약 문자열이 너무 길어서 보는데 불편한 경우, \\만 써 주고 엔터로 줄을 넘기면\n",
    "# 표기상으로는 두 줄이지만 실제 개념적으로는 한 줄로 인식되는 문자열이 됩니다.\n",
    "c = 'aaaaaaaaaaaaaaaaaaaaaaaaaa\\\n",
    "aaaaaaaaaaaaaaaaaaaaaaaaaaaaaaa\\\n",
    "aaaaaaaaaaaaaaaaaaaaaaaaaaaaaaa\\\n",
    "aaaaaaaaaaaaaaaaaaaaaaaaaaaaaaaaa'\n",
    "print(c)"
   ]
  },
  {
   "cell_type": "markdown",
   "id": "ff8b7602",
   "metadata": {},
   "source": [
    "# <<연습문제>>\n",
    "### 1. 아래와 같은 여러 줄의 문장을 문자열로 만들어서 lines라는 변수에 할당하세요\n",
    "\n",
    "> 파이썬도 배우고\n",
    "> 장고도 배우고\n",
    "> 할게 너무 많아\n",
    "\n",
    "방법1) 여러 줄 문자열 활용하기(lines 변수에 할당)\n",
    "\n",
    "방법2) 한 줄 문자열 내부에서 \\n 사이사이에 활용하기. (line 변수에 할당)"
   ]
  },
  {
   "cell_type": "code",
   "execution_count": 35,
   "id": "e9798118",
   "metadata": {},
   "outputs": [
    {
     "name": "stdout",
     "output_type": "stream",
     "text": [
      "파이썬도 배우고\n",
      " 장고도 배우고\n",
      " 할게 너무 많아\n"
     ]
    }
   ],
   "source": [
    "lines = \"\"\"파이썬도 배우고\n",
    " 장고도 배우고\n",
    " 할게 너무 많아\"\"\"\n",
    "print(lines)"
   ]
  },
  {
   "cell_type": "code",
   "execution_count": 36,
   "id": "caefabd3",
   "metadata": {},
   "outputs": [
    {
     "name": "stdout",
     "output_type": "stream",
     "text": [
      "파이썬도 배우고\n",
      "장고도 배우고\n",
      "할게 너무 많아\n"
     ]
    }
   ],
   "source": [
    "line = '파이썬도 배우고\\n장고도 배우고\\n할게 너무 많아'\n",
    "print(line)"
   ]
  },
  {
   "cell_type": "markdown",
   "id": "c2a1f45f",
   "metadata": {},
   "source": [
    "## > 연산하기\n",
    "### 1) 산술연산자 : 문자, 숫자를 함께 연산하기 위한 문법 기호\n",
    "\n",
    "- 문자와 문자를 연결\n",
    "- 동일한 문자를 반복해서 연결"
   ]
  },
  {
   "cell_type": "code",
   "execution_count": 37,
   "id": "2c3b7990",
   "metadata": {},
   "outputs": [
    {
     "data": {
      "text/plain": [
       "'가나'"
      ]
     },
     "execution_count": 37,
     "metadata": {},
     "output_type": "execute_result"
    }
   ],
   "source": [
    "# 문자와 문자를 연결 : +\n",
    "\"가\" + \"나\""
   ]
  },
  {
   "cell_type": "code",
   "execution_count": 54,
   "id": "067c632f",
   "metadata": {},
   "outputs": [
    {
     "data": {
      "text/plain": [
       "'가 나'"
      ]
     },
     "execution_count": 54,
     "metadata": {},
     "output_type": "execute_result"
    }
   ],
   "source": [
    "# 1. 문자열 자체에 공백 추가하기('가 나' 로 출력되게 만들기)\n",
    "'가' +' '+ \"나\""
   ]
  },
  {
   "cell_type": "code",
   "execution_count": 55,
   "id": "8c3cafc8",
   "metadata": {
    "collapsed": true
   },
   "outputs": [
    {
     "ename": "TypeError",
     "evalue": "can only concatenate str (not \"int\") to str",
     "output_type": "error",
     "traceback": [
      "\u001b[1;31m---------------------------------------------------------------------------\u001b[0m",
      "\u001b[1;31mTypeError\u001b[0m                                 Traceback (most recent call last)",
      "Input \u001b[1;32mIn [55]\u001b[0m, in \u001b[0;36m<cell line: 3>\u001b[1;34m()\u001b[0m\n\u001b[0;32m      1\u001b[0m \u001b[38;5;66;03m# 파이썬의 더하기는 양변 자료가 같거나 논리적으로 비슷하다고 인정되어야 함\u001b[39;00m\n\u001b[0;32m      2\u001b[0m \u001b[38;5;66;03m# 2.. 문자 + 숫자 = Error\u001b[39;00m\n\u001b[1;32m----> 3\u001b[0m \u001b[38;5;124;43m'\u001b[39;49m\u001b[38;5;124;43m가\u001b[39;49m\u001b[38;5;124;43m'\u001b[39;49m\u001b[43m \u001b[49m\u001b[38;5;241;43m+\u001b[39;49m\u001b[43m \u001b[49m\u001b[38;5;241;43m1\u001b[39;49m\n",
      "\u001b[1;31mTypeError\u001b[0m: can only concatenate str (not \"int\") to str"
     ]
    }
   ],
   "source": [
    "# 파이썬의 더하기는 양변 자료가 같거나 논리적으로 비슷하다고 인정되어야 함\n",
    "# 2.. 문자 + 숫자 = Error\n",
    "'가' + 1"
   ]
  },
  {
   "cell_type": "code",
   "execution_count": 56,
   "id": "bfb56495",
   "metadata": {},
   "outputs": [
    {
     "data": {
      "text/plain": [
       "'abcabcabc'"
      ]
     },
     "execution_count": 56,
     "metadata": {},
     "output_type": "execute_result"
    }
   ],
   "source": [
    "# 3. 문자를 여러 번 반복하기 : *\n",
    "# 동일한 문자열을 여러 번 반복 연결시켜줌.\n",
    "'abc' * 3"
   ]
  },
  {
   "cell_type": "code",
   "execution_count": 57,
   "id": "cb1b43cc",
   "metadata": {
    "collapsed": true
   },
   "outputs": [
    {
     "ename": "TypeError",
     "evalue": "can't multiply sequence by non-int of type 'str'",
     "output_type": "error",
     "traceback": [
      "\u001b[1;31m---------------------------------------------------------------------------\u001b[0m",
      "\u001b[1;31mTypeError\u001b[0m                                 Traceback (most recent call last)",
      "Input \u001b[1;32mIn [57]\u001b[0m, in \u001b[0;36m<cell line: 2>\u001b[1;34m()\u001b[0m\n\u001b[0;32m      1\u001b[0m \u001b[38;5;66;03m# 문자 * 문자 = Error\u001b[39;00m\n\u001b[1;32m----> 2\u001b[0m \u001b[38;5;124;43m'\u001b[39;49m\u001b[38;5;124;43mabc\u001b[39;49m\u001b[38;5;124;43m'\u001b[39;49m\u001b[43m \u001b[49m\u001b[38;5;241;43m*\u001b[39;49m\u001b[43m \u001b[49m\u001b[38;5;124;43m'\u001b[39;49m\u001b[38;5;124;43ma\u001b[39;49m\u001b[38;5;124;43m'\u001b[39;49m\n",
      "\u001b[1;31mTypeError\u001b[0m: can't multiply sequence by non-int of type 'str'"
     ]
    }
   ],
   "source": [
    "# 문자 * 문자 = Error\n",
    "'abc' * 'a'"
   ]
  },
  {
   "cell_type": "markdown",
   "id": "83bfe547",
   "metadata": {},
   "source": [
    "### 2) 비교연산자 : 문자의 크기를 비교하기 위한 문법 기호\n",
    "\n",
    "> 문자의 비교\n",
    "* 대문자 Vs 소문자 : 대문자 < 소문자 크기가 더 크다.\n",
    "* 알파벳 : 알파벳 순서가 뒤에 있을수록 크기가 더 크다.\n",
    "* 문자 길이 : 문자열의 길이가 길 수록 크기가 더 크다.\n",
    "문자 (\"a\"의 값은 97 \"A\"의 값은 65 \"0\"의 값은 48 이다.)"
   ]
  },
  {
   "cell_type": "code",
   "execution_count": 58,
   "id": "dbba52d8",
   "metadata": {},
   "outputs": [
    {
     "data": {
      "text/plain": [
       "True"
      ]
     },
     "execution_count": 58,
     "metadata": {},
     "output_type": "execute_result"
    }
   ],
   "source": [
    "# 대문자 vs 소문자 : 비교연산자(==, !=, <, >)로 확인\n",
    "'A' < 'a'"
   ]
  },
  {
   "cell_type": "code",
   "execution_count": 65,
   "id": "97d1c293",
   "metadata": {},
   "outputs": [
    {
     "data": {
      "text/plain": [
       "False"
      ]
     },
     "execution_count": 65,
     "metadata": {},
     "output_type": "execute_result"
    }
   ],
   "source": [
    "# 문자열을 대상으로 할 때에는 무조건 첫 글자끼리만 비교한다\n",
    "# 문자열의 길이는 실제 크기 비교에 영향을 미치지 않는다.\n",
    "# 만약 맨 앞글자가 같다면 다음 글자가 비교의 대상이 됩니다.\n",
    "'b' < 'BUS'"
   ]
  },
  {
   "cell_type": "code",
   "execution_count": 66,
   "id": "8bcdc188",
   "metadata": {},
   "outputs": [
    {
     "data": {
      "text/plain": [
       "True"
      ]
     },
     "execution_count": 66,
     "metadata": {},
     "output_type": "execute_result"
    }
   ],
   "source": [
    "# 영문자와 영문자 이외의 다른 문자간 비교는 무조건 영문자가 작게 나온다\n",
    "# ascii code Vs unicode\n",
    "'B' < '가'"
   ]
  },
  {
   "cell_type": "code",
   "execution_count": 67,
   "id": "354b5625",
   "metadata": {},
   "outputs": [
    {
     "data": {
      "text/plain": [
       "44032"
      ]
     },
     "execution_count": 67,
     "metadata": {},
     "output_type": "execute_result"
    }
   ],
   "source": [
    "# 문자에 배정된 코드값을 확인하는 방법\n",
    "# ord('확인할문자') 를 입력시 해당 문자의 코드가 나옵니다.\n",
    "ord('가')"
   ]
  },
  {
   "cell_type": "code",
   "execution_count": 69,
   "id": "22c42db8",
   "metadata": {},
   "outputs": [
    {
     "data": {
      "text/plain": [
       "45"
      ]
     },
     "execution_count": 69,
     "metadata": {},
     "output_type": "execute_result"
    }
   ],
   "source": [
    "# 해당 문자열이 몇 글자인지는 len(문자열) 으로 찍어서 확인 가능합니다.\n",
    "len('asfefaakgrgaowrkaorgkafasdfasdfasdfasdfasdfof')"
   ]
  },
  {
   "cell_type": "markdown",
   "id": "f41e3e58",
   "metadata": {},
   "source": [
    "# > 인덱스\n",
    "- 아이템(대상이 가지고 있는 최소 단위의 값)의 위치를 나타내는 고유한 번호\n",
    "- 첫 번째 위치는 0부터 시작\n",
    "- 마지막 위치는 -1부터 시작\n",
    "\n",
    "### 1) 인덱싱(indexing) : 특정 위치의 하나의 아이템에 접근하기\n",
    "\n",
    "- 인덱싱 문법기호 : 객체[인덱스번호]"
   ]
  },
  {
   "cell_type": "code",
   "execution_count": 76,
   "id": "245864a8",
   "metadata": {},
   "outputs": [],
   "source": [
    "# banana 라는 문자열에 대해 인덱싱\n",
    "text = 'banana'"
   ]
  },
  {
   "cell_type": "code",
   "execution_count": 77,
   "id": "a3ec43cf",
   "metadata": {},
   "outputs": [
    {
     "data": {
      "text/plain": [
       "'b'"
      ]
     },
     "execution_count": 77,
     "metadata": {},
     "output_type": "execute_result"
    }
   ],
   "source": [
    "# banana라는 문자열에서 첫 번째 아이템 = 0번째 인덱스번호로 접근\n",
    "# 인덱싱 문법 : 객체(대상 : 값, 자료형)[인덱스번호]\n",
    "text[0]"
   ]
  },
  {
   "cell_type": "code",
   "execution_count": 80,
   "id": "0cff2ab7",
   "metadata": {},
   "outputs": [
    {
     "data": {
      "text/plain": [
       "'a'"
      ]
     },
     "execution_count": 80,
     "metadata": {},
     "output_type": "execute_result"
    }
   ],
   "source": [
    "# 마지막 요소인 a에 접근\n",
    "text[-1] = #text[5]"
   ]
  },
  {
   "cell_type": "markdown",
   "id": "5831217c",
   "metadata": {},
   "source": [
    "### 2) 슬라이싱 : 연속된 범위의 여러 아이템에 접근\n",
    "\n",
    "* 대상객체[처음인덱스 : 마지막인덱스(:간격)]\n",
    "* 처음 인덱스 번호는 포함(n부터~)\n",
    "* 마지막 인덱스번호는 포함하지 않음(~ n-1. 까지)\n",
    "* 간격조정은 할 수도 있고 하지 않을수도 있음(기본 1씩 증가)"
   ]
  },
  {
   "cell_type": "code",
   "execution_count": 81,
   "id": "262c333c",
   "metadata": {},
   "outputs": [],
   "source": [
    "# 문자열 생성\n",
    "text = \"hello python world\""
   ]
  },
  {
   "cell_type": "code",
   "execution_count": 85,
   "id": "36c26aa7",
   "metadata": {},
   "outputs": [
    {
     "data": {
      "text/plain": [
       "'hello python'"
      ]
     },
     "execution_count": 85,
     "metadata": {},
     "output_type": "execute_result"
    }
   ],
   "source": [
    "# 처음부터 특정 위치까지 : ~python\n",
    "# 처음 인덱스 : 0\n",
    "# 마지막 인덱스 : -7(뒤에서 7번째까지 가져와야 하므로 실제로는 -6까지를 타겟으로)\n",
    "# 간격 : 기본값(1)\n",
    "text[0:-6]"
   ]
  },
  {
   "cell_type": "code",
   "execution_count": 87,
   "id": "9dc4be1d",
   "metadata": {},
   "outputs": [
    {
     "data": {
      "text/plain": [
       "'hello python'"
      ]
     },
     "execution_count": 87,
     "metadata": {},
     "output_type": "execute_result"
    }
   ],
   "source": [
    "# 첫 인덱스가 0으로 스타트를 끊는다면 생략해도 됩니다.\n",
    "text[:-6]"
   ]
  },
  {
   "cell_type": "code",
   "execution_count": 90,
   "id": "043a6275",
   "metadata": {},
   "outputs": [
    {
     "data": {
      "text/plain": [
       "'python'"
      ]
     },
     "execution_count": 90,
     "metadata": {},
     "output_type": "execute_result"
    }
   ],
   "source": [
    "# 특정 위치부터 마지막 아이템까지 : python\n",
    "# 처음 인덱스 : 6\n",
    "#마지막 인덱스 : 11 or -7\n",
    "#간격 : 기본값(1)\n",
    "\n",
    "text[6:-6] #text[6:12]"
   ]
  },
  {
   "cell_type": "code",
   "execution_count": 92,
   "id": "685b7f1f",
   "metadata": {},
   "outputs": [
    {
     "data": {
      "text/plain": [
       "'hello python world'"
      ]
     },
     "execution_count": 92,
     "metadata": {},
     "output_type": "execute_result"
    }
   ],
   "source": [
    "# 전체 범위 지정 : 처음 인덱스와 마지막 인덱스를 모두 쓰지 않으면 전체지정\n",
    "# 처음 인덱스 기본값 : 0 자동 입력\n",
    "# 마지막 인덱스 기본값 : 마지막까지로 자동 입력\n",
    "text[:]"
   ]
  },
  {
   "cell_type": "code",
   "execution_count": 97,
   "id": "079c4976",
   "metadata": {},
   "outputs": [
    {
     "data": {
      "text/plain": [
       "'hlopto ol'"
      ]
     },
     "execution_count": 97,
     "metadata": {},
     "output_type": "execute_result"
    }
   ],
   "source": [
    "# 전체 범위 지정 + 간격을 2로 넣었을때\n",
    "text[ : :2]"
   ]
  },
  {
   "cell_type": "code",
   "execution_count": 98,
   "id": "2b54c08d",
   "metadata": {},
   "outputs": [
    {
     "data": {
      "text/plain": [
       "'dlrow nohtyp olleh'"
      ]
     },
     "execution_count": 98,
     "metadata": {},
     "output_type": "execute_result"
    }
   ],
   "source": [
    "# 간격을 음수로 주면 뒤에서부터 셉니다.\n",
    "text[ : :-1]"
   ]
  },
  {
   "cell_type": "markdown",
   "id": "d360c2c6",
   "metadata": {},
   "source": [
    "## > 연습문제\n",
    "\n",
    "### 20221005미세먼지양호함\n",
    "#### 위의 문장을 weather 변수에 저장한 다음\n",
    "#### 날짜는 date 변수에 슬라이싱으로 받아오고,\n",
    "#### dust 변수에 미세먼지 정도를 슬라이싱으로 받아오도록 만들어서 출력해주세요.\n",
    "\n",
    "출력양식 : <br>\n",
    "날짜 : 20221005\n",
    "날씨 : 미세먼지양호함"
   ]
  },
  {
   "cell_type": "code",
   "execution_count": 122,
   "id": "228acf24",
   "metadata": {},
   "outputs": [],
   "source": [
    "weather = \"20221005미세먼지양호함\""
   ]
  },
  {
   "cell_type": "code",
   "execution_count": 123,
   "id": "a753b9ed",
   "metadata": {},
   "outputs": [],
   "source": [
    "date = weather[:8]"
   ]
  },
  {
   "cell_type": "code",
   "execution_count": 124,
   "id": "b87d9549",
   "metadata": {},
   "outputs": [],
   "source": [
    "dust = weather[8:]"
   ]
  },
  {
   "cell_type": "code",
   "execution_count": 129,
   "id": "2ed62fe4",
   "metadata": {},
   "outputs": [
    {
     "name": "stdout",
     "output_type": "stream",
     "text": [
      "날짜 20221005\n",
      "날씨 미세먼지양호함\n"
     ]
    }
   ],
   "source": [
    "print(\"날짜\",date)\n",
    "print(\"날씨\", dust)"
   ]
  },
  {
   "cell_type": "markdown",
   "id": "ac6096fb",
   "metadata": {},
   "source": [
    "# > 포매팅(Formatting)\n",
    "\n",
    "특정 값만 바뀌고 일정한 형식을 가지는 문자열을 작성할 수 있는 기법"
   ]
  },
  {
   "cell_type": "markdown",
   "id": "ea762c5e",
   "metadata": {},
   "source": [
    "### % 포매팅\n",
    "\n",
    "    -데이터 타입에 따른 분류 : 정수, 실수, 문자\n",
    "    -옵션 : 문자열 길이, 표현할 아이템 개수, 공백\n",
    "    \n",
    "### 1) 숫자 값 대입"
   ]
  },
  {
   "cell_type": "code",
   "execution_count": null,
   "id": "3e5164e3",
   "metadata": {},
   "outputs": [],
   "source": [
    "# 1. 가변자료가 들어갈 자리(땡땡...에 해당하는)에 구멍(%자료형)을 낸다.\n",
    "# 2. 구멍이 뚫린 문자열 뒤에 %로 연결한 다음 집어넣을 값을 적는다."
   ]
  },
  {
   "cell_type": "code",
   "execution_count": 132,
   "id": "23929a47",
   "metadata": {},
   "outputs": [
    {
     "data": {
      "text/plain": [
       "'오늘은 8일입니다'"
      ]
     },
     "execution_count": 132,
     "metadata": {},
     "output_type": "execute_result"
    }
   ],
   "source": [
    "# 정수 값 포매팅 : 정수(int)-> %d\n",
    "'오늘은 %d일입니다' % 8"
   ]
  },
  {
   "cell_type": "code",
   "execution_count": 133,
   "id": "c81bf6f1",
   "metadata": {},
   "outputs": [
    {
     "data": {
      "text/plain": [
       "'오늘은 5일입니다'"
      ]
     },
     "execution_count": 133,
     "metadata": {},
     "output_type": "execute_result"
    }
   ],
   "source": [
    "# 정수 자리의 의미 : 지금 집어넣은 자료를 정수로 변환해 출력해주세요 라는 의미\n",
    "#실수를 제공하면, 정수로 강제로 바꿔서 출력합니다.(소수점 아래를 버림, 반올림 아님)\n",
    "'오늘은 %d일입니다' % 5.7"
   ]
  },
  {
   "cell_type": "code",
   "execution_count": 137,
   "id": "461ca568",
   "metadata": {},
   "outputs": [
    {
     "data": {
      "text/plain": [
       "'15.000000 표기'"
      ]
     },
     "execution_count": 137,
     "metadata": {},
     "output_type": "execute_result"
    }
   ],
   "source": [
    "# 실수(float)값 포매팅\n",
    "# %f를 이용하여 값에 대한 구멍을 낸다\n",
    "# %f는 기본적으로 소수점 6자리까지 표현\n",
    "\"%f 표기\" % 15"
   ]
  },
  {
   "cell_type": "code",
   "execution_count": 138,
   "id": "9b2253e1",
   "metadata": {},
   "outputs": [
    {
     "data": {
      "text/plain": [
       "'1.123457 표기'"
      ]
     },
     "execution_count": 138,
     "metadata": {},
     "output_type": "execute_result"
    }
   ],
   "source": [
    "# 실수값 포매팅 2 : %f에 실수 적용시\n",
    "# 소수점 아래 7자리에서 반올림이 일어납니다.\n",
    "\"%f 표기\" %1.123456789"
   ]
  },
  {
   "cell_type": "code",
   "execution_count": 141,
   "id": "0c6608fc",
   "metadata": {},
   "outputs": [
    {
     "data": {
      "text/plain": [
       "'1.12346 표기'"
      ]
     },
     "execution_count": 141,
     "metadata": {},
     "output_type": "execute_result"
    }
   ],
   "source": [
    "# 옵션 : 소수점 아래 자리를 몇 자리까지 출력할지 정할 수 있음\n",
    "# %0.nf : 소수점 아래 n자리까지만 표현하는 실수\n",
    "\"%0.5f 표기\" %1.123456789"
   ]
  },
  {
   "cell_type": "code",
   "execution_count": 143,
   "id": "ea151c20",
   "metadata": {},
   "outputs": [
    {
     "data": {
      "text/plain": [
       "'오늘은 10월 5일 입니다.'"
      ]
     },
     "execution_count": 143,
     "metadata": {},
     "output_type": "execute_result"
    }
   ],
   "source": [
    "# 가변자료를 2개 이상 넣는 케이스\n",
    "# 집어넣는 값은 왼쪽부터 하나씩 전달됨\n",
    "# 2개 이상을 집어넣는 경우는 % (첫 번째 값, 두 번째 값. ...)과 같이 괄호로 전달한다.\n",
    "'오늘은 %d월 %d일 입니다.' %(10, 5)"
   ]
  },
  {
   "cell_type": "code",
   "execution_count": 146,
   "id": "9a922aeb",
   "metadata": {},
   "outputs": [
    {
     "ename": "TypeError",
     "evalue": "%d format: a number is required, not str",
     "output_type": "error",
     "traceback": [
      "\u001b[1;31m---------------------------------------------------------------------------\u001b[0m",
      "\u001b[1;31mTypeError\u001b[0m                                 Traceback (most recent call last)",
      "Input \u001b[1;32mIn [146]\u001b[0m, in \u001b[0;36m<cell line: 2>\u001b[1;34m()\u001b[0m\n\u001b[0;32m      1\u001b[0m \u001b[38;5;66;03m# %d, %f에 숫자가 아닌 자료를 넣으면 에러 발생\u001b[39;00m\n\u001b[1;32m----> 2\u001b[0m \u001b[38;5;124;43m'\u001b[39;49m\u001b[38;5;132;43;01m%d\u001b[39;49;00m\u001b[38;5;124;43m'\u001b[39;49m\u001b[43m \u001b[49m\u001b[38;5;241;43m%\u001b[39;49m\u001b[43m \u001b[49m\u001b[38;5;124;43m'\u001b[39;49m\u001b[38;5;124;43m1\u001b[39;49m\u001b[38;5;124;43m'\u001b[39;49m\n",
      "\u001b[1;31mTypeError\u001b[0m: %d format: a number is required, not str"
     ]
    }
   ],
   "source": [
    "# %d, %f에 숫자가 아닌 자료를 넣으면 에러 발생\n",
    "'%d' % '1'"
   ]
  },
  {
   "cell_type": "markdown",
   "id": "a1164cdc",
   "metadata": {},
   "source": [
    "# 2) 문자 대입\n",
    "- %s로 구멍 뚫기\n",
    "- 집어넣는 값에 대해서는 제한이 없다\n",
    "- 만능 포매팅"
   ]
  },
  {
   "cell_type": "code",
   "execution_count": 152,
   "id": "ef939e7d",
   "metadata": {},
   "outputs": [
    {
     "data": {
      "text/plain": [
       "'창언님 접속을 환영합니다.'"
      ]
     },
     "execution_count": 152,
     "metadata": {},
     "output_type": "execute_result"
    }
   ],
   "source": [
    "# 집어넣는 값 : 문자타입\n",
    "'%s님 접속을 환영합니다.' % '창언'"
   ]
  },
  {
   "cell_type": "code",
   "execution_count": 154,
   "id": "118dcc14",
   "metadata": {},
   "outputs": [
    {
     "data": {
      "text/plain": [
       "'100. 숫자도 입력 가능'"
      ]
     },
     "execution_count": 154,
     "metadata": {},
     "output_type": "execute_result"
    }
   ],
   "source": [
    "# 문자 이외의 타입도 가능\n",
    "'%s. 숫자도 입력 가능' % 100"
   ]
  },
  {
   "cell_type": "markdown",
   "id": "fac139a4",
   "metadata": {},
   "source": [
    "## > 문자열 내장함수* = 문자열 메서드\n",
    "    └≫ 내장함수 : 특정 데이터 타입이 자체적으로 가지고 있는 속성으로 존재하는 함수\n",
    "    └≫ 문법 : 변수.함수명()\n",
    "* count( ) : 특정 문자의 개수\n",
    "\n",
    "\n",
    "* find( ) :특정 문자의 인덱스 번호(위치)\n",
    "\n",
    "\n",
    "* join( ) : 특정 기호를 문자열 아이템 사이에 입력\n",
    "\n",
    "\n",
    "* upper( ) : 문자열을 대문자로 변경\n",
    "\n",
    "\n",
    "* lower( ) : 문자열을 소문자로 변경\n",
    "\n",
    "\n",
    "* capitalize( ) : 문자열의 첫 글자를 대문자로\n",
    "\n",
    "\n",
    "* swapcase( ) : 대문자는 소문자로, 소문자는 대문자로 전환\n",
    "\n",
    "\n",
    "* lstrip( ) / rstrip( ) / strip( ) : 좌 / 우 / 앞뒤 공백(기본) 및 특정 문자 지우기\n",
    "\n",
    "\n",
    "* replace( ) : 기존 문자를 새로운 문자로 바꾸기\n",
    "\n",
    "\n",
    "* split( ) : 특정 기호를 기준으로 문자열을 아이템 단위로 나누어 리스트로 반환\n",
    "\n",
    "\n",
    "* center( ) : 문자열 길이를 지정하여 대상 문자열을 중앙 정렬\n",
    "\n",
    "\n",
    "* ljust( ) : 문자열 길이를 지정하여 대상 문자열을 왼쪽 정렬\n",
    "\n",
    "\n",
    "* rjust( ) : 문자열 길이를 지정하여 대상 문자열을 오른쪽 정렬"
   ]
  },
  {
   "cell_type": "code",
   "execution_count": 156,
   "id": "f81a58b2",
   "metadata": {},
   "outputs": [],
   "source": [
    "# 문자열 생성\n",
    "text = 'tomato juice'"
   ]
  },
  {
   "cell_type": "code",
   "execution_count": 159,
   "id": "598975c0",
   "metadata": {},
   "outputs": [
    {
     "data": {
      "text/plain": [
       "2"
      ]
     },
     "execution_count": 159,
     "metadata": {},
     "output_type": "execute_result"
    }
   ],
   "source": [
    "# .count()\n",
    "# text문자열에서의 t의 갯수\n",
    "text.count('t')"
   ]
  },
  {
   "cell_type": "code",
   "execution_count": 158,
   "id": "77f60399",
   "metadata": {},
   "outputs": [
    {
     "data": {
      "text/plain": [
       "2"
      ]
     },
     "execution_count": 158,
     "metadata": {},
     "output_type": "execute_result"
    }
   ],
   "source": [
    "# .count() 는 2글자 이상에 대해서도 집계가 가능합니다\n",
    "text. count('to')"
   ]
  },
  {
   "cell_type": "code",
   "execution_count": 164,
   "id": "e68024ab",
   "metadata": {},
   "outputs": [
    {
     "data": {
      "text/plain": [
       "4"
      ]
     },
     "execution_count": 164,
     "metadata": {},
     "output_type": "execute_result"
    }
   ],
   "source": [
    "# .find() : 특정 값의 인덱스 번호를 반환\n",
    "# txt 문자열에서의 a의 인덱스 번호\n",
    "# .find('찾을자료', 사작번호) 입력으로 0번이 아닌 이후 번호를 시작점으로 지정 가능\n",
    "text.find('to', 1)"
   ]
  },
  {
   "cell_type": "code",
   "execution_count": 171,
   "id": "1364a92a",
   "metadata": {},
   "outputs": [
    {
     "data": {
      "text/plain": [
       "'TOMATO JUICE'"
      ]
     },
     "execution_count": 171,
     "metadata": {},
     "output_type": "execute_result"
    }
   ],
   "source": [
    "# .upper()\n",
    "# 소문자를 전부 대문자로(대문자는 변동 없음)\n",
    "# 변경된 결과를 시뮬레이션 해서 보여줌(원본자료는 대문자화 되지않음)\n",
    "text.upper()\n"
   ]
  },
  {
   "cell_type": "code",
   "execution_count": 172,
   "id": "6ac5c771",
   "metadata": {},
   "outputs": [
    {
     "data": {
      "text/plain": [
       "'tomato juice'"
      ]
     },
     "execution_count": 172,
     "metadata": {},
     "output_type": "execute_result"
    }
   ],
   "source": [
    "text"
   ]
  },
  {
   "cell_type": "code",
   "execution_count": 174,
   "id": "ea06ab06",
   "metadata": {},
   "outputs": [
    {
     "data": {
      "text/plain": [
       "'TOMATO JUICE'"
      ]
     },
     "execution_count": 174,
     "metadata": {},
     "output_type": "execute_result"
    }
   ],
   "source": [
    "# .lower()\n",
    "# 대문자를 전부 소문자로(소문자는 변동 없음)\n",
    "text2 = text.upper()\n",
    "text2"
   ]
  },
  {
   "cell_type": "code",
   "execution_count": 175,
   "id": "45b78969",
   "metadata": {},
   "outputs": [
    {
     "data": {
      "text/plain": [
       "'tomato juice'"
      ]
     },
     "execution_count": 175,
     "metadata": {},
     "output_type": "execute_result"
    }
   ],
   "source": [
    "text2.lower()"
   ]
  },
  {
   "cell_type": "code",
   "execution_count": 184,
   "id": "39a8c98c",
   "metadata": {},
   "outputs": [],
   "source": [
    "text =\"          123          123          123\""
   ]
  },
  {
   "cell_type": "code",
   "execution_count": 185,
   "id": "a508dfa6",
   "metadata": {},
   "outputs": [
    {
     "data": {
      "text/plain": [
       "'123          123          123'"
      ]
     },
     "execution_count": 185,
     "metadata": {},
     "output_type": "execute_result"
    }
   ],
   "source": [
    "# .lstrip()\n",
    "# 문자열의 왼쪽에 있는 공백 전부 제거(가운데는 제거 안함)\n",
    "# 시뮬레이션 결과만 보여줌(원문에 반영x)\n",
    "text .lstrip()"
   ]
  },
  {
   "cell_type": "code",
   "execution_count": 186,
   "id": "35033da1",
   "metadata": {},
   "outputs": [
    {
     "data": {
      "text/plain": [
       "'          123          123          123'"
      ]
     },
     "execution_count": 186,
     "metadata": {},
     "output_type": "execute_result"
    }
   ],
   "source": [
    "# .rstrip\n",
    "text.rstrip()"
   ]
  },
  {
   "cell_type": "code",
   "execution_count": 187,
   "id": "700631cc",
   "metadata": {},
   "outputs": [
    {
     "data": {
      "text/plain": [
       "'123          123          123'"
      ]
     },
     "execution_count": 187,
     "metadata": {},
     "output_type": "execute_result"
    }
   ],
   "source": [
    "# .strip()\n",
    "# 양쪽 다 없애줌\n",
    "text.strip()"
   ]
  },
  {
   "cell_type": "code",
   "execution_count": 190,
   "id": "7a795aea",
   "metadata": {},
   "outputs": [
    {
     "data": {
      "text/plain": [
       "'          456          456          456'"
      ]
     },
     "execution_count": 190,
     "metadata": {},
     "output_type": "execute_result"
    }
   ],
   "source": [
    "# .repiace(old, new)\n",
    "# 찾아바꾸기. 문자열 내에서 old에 해당하는 문자를 찾아 new로 싹 다 교체\n",
    "# 공백 찾아 없애기에 쓸 수 있음.\n",
    "# 역시 원본자료에는 영향을 미치지 않고 일시적으로 변경\n",
    "text.replace(\"123\", \"456\")"
   ]
  },
  {
   "cell_type": "code",
   "execution_count": 191,
   "id": "8b2209d2",
   "metadata": {},
   "outputs": [
    {
     "data": {
      "text/plain": [
       "'          123          123          123'"
      ]
     },
     "execution_count": 191,
     "metadata": {},
     "output_type": "execute_result"
    }
   ],
   "source": [
    "text"
   ]
  },
  {
   "cell_type": "code",
   "execution_count": 193,
   "id": "bd45bf55",
   "metadata": {},
   "outputs": [
    {
     "data": {
      "text/plain": [
       "'123123123'"
      ]
     },
     "execution_count": 193,
     "metadata": {},
     "output_type": "execute_result"
    }
   ],
   "source": [
    "text.replace(\" \",\"\")"
   ]
  },
  {
   "cell_type": "code",
   "execution_count": 195,
   "id": "d08d2789",
   "metadata": {},
   "outputs": [],
   "source": [
    "text2 = 'a b c'"
   ]
  },
  {
   "cell_type": "code",
   "execution_count": 196,
   "id": "dd90e5c3",
   "metadata": {},
   "outputs": [
    {
     "data": {
      "text/plain": [
       "['a', 'b', 'c']"
      ]
     },
     "execution_count": 196,
     "metadata": {},
     "output_type": "execute_result"
    }
   ],
   "source": [
    "# .split(\"기준\")\n",
    "# 쪼개기\n",
    "# 기준 입력시 기준점을 기준으로 쪼개고\n",
    "# 입력 안 하면 '',\\n,\\t 등을 기준으로 쪼개줌\n",
    "text2.split()"
   ]
  },
  {
   "cell_type": "code",
   "execution_count": 197,
   "id": "35b7f9d1",
   "metadata": {},
   "outputs": [
    {
     "data": {
      "text/plain": [
       "['a ', ' c']"
      ]
     },
     "execution_count": 197,
     "metadata": {},
     "output_type": "execute_result"
    }
   ],
   "source": [
    "text2.split('b')"
   ]
  },
  {
   "cell_type": "code",
   "execution_count": 198,
   "id": "90b4afb0",
   "metadata": {},
   "outputs": [],
   "source": [
    "# 두 글자 이상도 쪼개기의 기준이 될 수 있음\n",
    "text3 = 'a,b,c,ddes'"
   ]
  },
  {
   "cell_type": "code",
   "execution_count": 200,
   "id": "6f5c85c7",
   "metadata": {},
   "outputs": [
    {
     "data": {
      "text/plain": [
       "['a,b,c,', 's']"
      ]
     },
     "execution_count": 200,
     "metadata": {},
     "output_type": "execute_result"
    }
   ],
   "source": [
    "text3.split(\"dde\")"
   ]
  },
  {
   "cell_type": "code",
   "execution_count": 201,
   "id": "648516b0",
   "metadata": {},
   "outputs": [
    {
     "data": {
      "text/plain": [
       "'a,b,c'"
      ]
     },
     "execution_count": 201,
     "metadata": {},
     "output_type": "execute_result"
    }
   ],
   "source": [
    "# join()\n",
    "# 왼쪽에 있는 요소를 .join(자료)의\n",
    "# 자료 인덱스 사이사이에 입력해줌\n",
    "text = 'abc'\n",
    "\",\".join(text)"
   ]
  },
  {
   "cell_type": "code",
   "execution_count": 205,
   "id": "ceefe212",
   "metadata": {},
   "outputs": [],
   "source": [
    "# 마지막 인덱스 번호 가변적으로 구하기\n",
    "# len(문자열) -1\n",
    "x = 'abcdefghijklnmopqrstuvwxyz'"
   ]
  },
  {
   "cell_type": "code",
   "execution_count": 206,
   "id": "7c58aabf",
   "metadata": {},
   "outputs": [
    {
     "data": {
      "text/plain": [
       "25"
      ]
     },
     "execution_count": 206,
     "metadata": {},
     "output_type": "execute_result"
    }
   ],
   "source": [
    "# 28글자이므로 글자를 세줌\n",
    "len(x) -1"
   ]
  },
  {
   "cell_type": "code",
   "execution_count": 211,
   "id": "c1963927",
   "metadata": {},
   "outputs": [
    {
     "data": {
      "text/plain": [
       "'z'"
      ]
     },
     "execution_count": 211,
     "metadata": {},
     "output_type": "execute_result"
    }
   ],
   "source": [
    "# x의 마지막 글자를 len()을 활용한 인덱싱으로 출력해보세요.\n",
    "x[len(x)-1]"
   ]
  }
 ],
 "metadata": {
  "kernelspec": {
   "display_name": "Python 3 (ipykernel)",
   "language": "python",
   "name": "python3"
  },
  "language_info": {
   "codemirror_mode": {
    "name": "ipython",
    "version": 3
   },
   "file_extension": ".py",
   "mimetype": "text/x-python",
   "name": "python",
   "nbconvert_exporter": "python",
   "pygments_lexer": "ipython3",
   "version": "3.9.12"
  }
 },
 "nbformat": 4,
 "nbformat_minor": 5
}
