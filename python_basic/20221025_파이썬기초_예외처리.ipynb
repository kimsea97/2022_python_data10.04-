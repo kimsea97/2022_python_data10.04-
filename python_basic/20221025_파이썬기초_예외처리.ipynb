{
 "cells": [
  {
   "cell_type": "markdown",
   "id": "e4784c7d",
   "metadata": {},
   "source": [
    "# 에러와 예외\n",
    "### 에러는 물리적인 이유로 발생하는(인터넷 안잡고 접속하기...등등)것이고\n",
    "\n",
    "### 예외는 논리적인 이유로 발생하는 것입니다.\n",
    "\n",
    "예외가 발생하면 코드가 그 즉시 정지되어 다음 로직으로 진행할 수 없습니다.\n",
    "\n",
    "그러나 크롤링 등을 하다보면 종종 모종의 이유로 특정 단계에서 발생한 예외를\n",
    "\n",
    "무시하고 다음단계로 넘어가야 할 수 있기때문에 이에 대해 사용하는\n",
    "\n",
    "`try ~ except` 구문을 배워야 합니다."
   ]
  },
  {
   "cell_type": "code",
   "execution_count": 1,
   "id": "696b18e3",
   "metadata": {},
   "outputs": [
    {
     "ename": "TypeError",
     "evalue": "unsupported operand type(s) for +: 'int' and 'str'",
     "output_type": "error",
     "traceback": [
      "\u001b[1;31m---------------------------------------------------------------------------\u001b[0m",
      "\u001b[1;31mTypeError\u001b[0m                                 Traceback (most recent call last)",
      "Input \u001b[1;32mIn [1]\u001b[0m, in \u001b[0;36m<cell line: 2>\u001b[1;34m()\u001b[0m\n\u001b[0;32m      1\u001b[0m \u001b[38;5;66;03m# 에러 상황(문법이 틀렸거나 틀린 구문을 사용함)\u001b[39;00m\n\u001b[1;32m----> 2\u001b[0m \u001b[38;5;28mprint\u001b[39m(\u001b[38;5;241;43m1\u001b[39;49m\u001b[43m \u001b[49m\u001b[38;5;241;43m+\u001b[39;49m\u001b[43m \u001b[49m\u001b[38;5;124;43m\"\u001b[39;49m\u001b[38;5;124;43m가나다\u001b[39;49m\u001b[38;5;124;43m\"\u001b[39;49m)\n",
      "\u001b[1;31mTypeError\u001b[0m: unsupported operand type(s) for +: 'int' and 'str'"
     ]
    }
   ],
   "source": [
    "# 에러 상황(문법이 틀렸거나 틀린 구문을 사용함)\n",
    "print(1 + \"가나다\")"
   ]
  },
  {
   "cell_type": "code",
   "execution_count": 2,
   "id": "09ea22ee",
   "metadata": {},
   "outputs": [
    {
     "ename": "SyntaxError",
     "evalue": "EOL while scanning string literal (1727235973.py, line 1)",
     "output_type": "error",
     "traceback": [
      "\u001b[1;36m  Input \u001b[1;32mIn [2]\u001b[1;36m\u001b[0m\n\u001b[1;33m    \"asdfasdf\u001b[0m\n\u001b[1;37m             ^\u001b[0m\n\u001b[1;31mSyntaxError\u001b[0m\u001b[1;31m:\u001b[0m EOL while scanning string literal\n"
     ]
    }
   ],
   "source": [
    "\"asdfasdf"
   ]
  },
  {
   "cell_type": "code",
   "execution_count": 3,
   "id": "6b6630fc",
   "metadata": {},
   "outputs": [
    {
     "ename": "ZeroDivisionError",
     "evalue": "division by zero",
     "output_type": "error",
     "traceback": [
      "\u001b[1;31m---------------------------------------------------------------------------\u001b[0m",
      "\u001b[1;31mZeroDivisionError\u001b[0m                         Traceback (most recent call last)",
      "Input \u001b[1;32mIn [3]\u001b[0m, in \u001b[0;36m<cell line: 2>\u001b[1;34m()\u001b[0m\n\u001b[0;32m      1\u001b[0m \u001b[38;5;66;03m# 예외 상황 : 문법도 맞고 논리적으로도 맞지만 연산이 불가능한 경우\u001b[39;00m\n\u001b[1;32m----> 2\u001b[0m \u001b[38;5;241;43m2\u001b[39;49m\u001b[43m \u001b[49m\u001b[38;5;241;43m/\u001b[39;49m\u001b[43m \u001b[49m\u001b[38;5;241;43m0\u001b[39;49m\n",
      "\u001b[1;31mZeroDivisionError\u001b[0m: division by zero"
     ]
    }
   ],
   "source": [
    "# 예외 상황 : 문법도 맞고 논리적으로도 맞지만 연산이 불가능한 경우\n",
    "2 / 0"
   ]
  },
  {
   "cell_type": "code",
   "execution_count": 25,
   "id": "5024f4d0",
   "metadata": {
    "scrolled": false
   },
   "outputs": [
    {
     "name": "stdout",
     "output_type": "stream",
     "text": [
      "나눗셈에 사용할 분자를 입력해주세요3\n",
      "나눗셈에 사용할 분모를 입력해주세요0\n",
      "0으로 나눌수 없습니다.\n"
     ]
    },
    {
     "ename": "ZeroDivisionError",
     "evalue": "division by zero",
     "output_type": "error",
     "traceback": [
      "\u001b[1;31m---------------------------------------------------------------------------\u001b[0m",
      "\u001b[1;31mZeroDivisionError\u001b[0m                         Traceback (most recent call last)",
      "Input \u001b[1;32mIn [25]\u001b[0m, in \u001b[0;36m<cell line: 12>\u001b[1;34m()\u001b[0m\n\u001b[0;32m      7\u001b[0m     \u001b[38;5;28mprint\u001b[39m(\u001b[38;5;124m'\u001b[39m\u001b[38;5;124m0으로 나눌수 없습니다.\u001b[39m\u001b[38;5;124m'\u001b[39m)\n\u001b[0;32m      8\u001b[0m \u001b[38;5;66;03m# 위 숫자를 검사해서 나눗셈이 가능하면\u001b[39;00m\n\u001b[0;32m      9\u001b[0m \u001b[38;5;66;03m# 값을 콘솔에 띄우고\u001b[39;00m\n\u001b[0;32m     10\u001b[0m \u001b[38;5;66;03m# 나눗셈이 불가능한 경우\u001b[39;00m\n\u001b[0;32m     11\u001b[0m \u001b[38;5;66;03m# print(\"0으로 나눌수 없습니다\") 가 나오도록 아래 print(a/b)를 고쳐주세요 \u001b[39;00m\n\u001b[1;32m---> 12\u001b[0m \u001b[38;5;28mprint\u001b[39m(\u001b[43ma\u001b[49m\u001b[43m \u001b[49m\u001b[38;5;241;43m/\u001b[39;49m\u001b[43m \u001b[49m\u001b[43mb\u001b[49m)\n\u001b[0;32m     13\u001b[0m \u001b[38;5;28mprint\u001b[39m(\u001b[38;5;124m'\u001b[39m\u001b[38;5;124m연산이 완전히 끝났습니다\u001b[39m\u001b[38;5;124m'\u001b[39m)\n",
      "\u001b[1;31mZeroDivisionError\u001b[0m: division by zero"
     ]
    }
   ],
   "source": [
    "# 예외 상황에 대한 처리 1 : if문을 통한 검사\n",
    "a = int(input('나눗셈에 사용할 분자를 입력해주세요'))\n",
    "b = int(input('나눗셈에 사용할 분모를 입력해주세요'))\n",
    "if b !=0:\n",
    "    print(a/b)\n",
    "else:\n",
    "    print('0으로 나눌수 없습니다.')\n",
    "# 위 숫자를 검사해서 나눗셈이 가능하면\n",
    "# 값을 콘솔에 띄우고\n",
    "# 나눗셈이 불가능한 경우\n",
    "# print(\"0으로 나눌수 없습니다\") 가 나오도록 아래 print(a/b)를 고쳐주세요 \n",
    "print(a / b)\n",
    "print('연산이 완전히 끝났습니다')"
   ]
  },
  {
   "cell_type": "code",
   "execution_count": 28,
   "id": "a8fea8dc",
   "metadata": {},
   "outputs": [
    {
     "name": "stdout",
     "output_type": "stream",
     "text": [
      "나눗셈에 사용할 분자를 입력해주세요ㄱ\n",
      "분모로 0을 넣거나 문자를 넣으면 안 됩니다.\n",
      "연산이 완전히 끝났습니다.\n"
     ]
    }
   ],
   "source": [
    "# try ~ except\n",
    "# try에는 예외가 발생할지도 모르는 구문을 넣습니다.\n",
    "# except에는 예외가 발생해서 구문이 멈췄을때 이어서 실행할 내용을 적습니다.\n",
    "try:\n",
    "    a = int(input('나눗셈에 사용할 분자를 입력해주세요'))\n",
    "    b = int(input('나눗셈에 사용할 분모를 입력해주세요'))\n",
    "    print(a/b)# b에 0이 들어오면 except로 자동 이동\n",
    "except:\n",
    "    print(\"분모로 0을 넣거나 문자를 넣으면 안 됩니다.\")\n",
    "print(\"연산이 완전히 끝났습니다.\")\n"
   ]
  }
 ],
 "metadata": {
  "kernelspec": {
   "display_name": "Python 3 (ipykernel)",
   "language": "python",
   "name": "python3"
  },
  "language_info": {
   "codemirror_mode": {
    "name": "ipython",
    "version": 3
   },
   "file_extension": ".py",
   "mimetype": "text/x-python",
   "name": "python",
   "nbconvert_exporter": "python",
   "pygments_lexer": "ipython3",
   "version": "3.9.12"
  }
 },
 "nbformat": 4,
 "nbformat_minor": 5
}
