{
 "cells": [
  {
   "cell_type": "markdown",
   "id": "6c5297d8",
   "metadata": {},
   "source": [
    "# 데이터 타입\n",
    "## > 숫자형\n",
    "- 종류\n",
    "    - 정수 : 0, 양수, 음수인 숫자\n",
    "    - 실수 : 소숫점을 포함하는 숫자\n",
    "    - 8진수 (Oo 또는 OO(대문자o) 으로 시작) : Oo34, Oo25\n",
    "    - 16진수 (Ox로 시작) : Oo2A,OxFF\n",
    "    - 2진수 (Ob로 시작) : Ob1O, Ob11"
   ]
  },
  {
   "cell_type": "markdown",
   "id": "ef2948e8",
   "metadata": {},
   "source": [
    "### 정수형 "
   ]
  },
  {
   "cell_type": "code",
   "execution_count": 1,
   "id": "7f98fa6f",
   "metadata": {},
   "outputs": [],
   "source": [
    "# 양수, 음수, 0\n",
    "a = 10\n",
    "b = -20\n",
    "c = 0"
   ]
  },
  {
   "cell_type": "code",
   "execution_count": 4,
   "id": "800d4357",
   "metadata": {},
   "outputs": [
    {
     "name": "stdout",
     "output_type": "stream",
     "text": [
      "10\n"
     ]
    }
   ],
   "source": [
    "# 출력 : print(자료)\n",
    "print(a)"
   ]
  },
  {
   "cell_type": "code",
   "execution_count": 5,
   "id": "f97aee10",
   "metadata": {},
   "outputs": [
    {
     "name": "stdout",
     "output_type": "stream",
     "text": [
      "a\n"
     ]
    }
   ],
   "source": [
    "# 따움표로 싸여 있는 a는 \"a\" 라는 문자로 출력\n",
    "print(\"a\")"
   ]
  },
  {
   "cell_type": "code",
   "execution_count": 6,
   "id": "bd80f963",
   "metadata": {},
   "outputs": [
    {
     "name": "stdout",
     "output_type": "stream",
     "text": [
      "Hello world\n"
     ]
    }
   ],
   "source": [
    "print(\"Hello world\")"
   ]
  },
  {
   "cell_type": "code",
   "execution_count": 7,
   "id": "f6b808bd",
   "metadata": {},
   "outputs": [
    {
     "data": {
      "text/plain": [
       "int"
      ]
     },
     "execution_count": 7,
     "metadata": {},
     "output_type": "execute_result"
    }
   ],
   "source": [
    "# 정수 타입 : 타입(데이터종류)를 확인하는 내장함수 type()\n",
    "type(a)"
   ]
  },
  {
   "cell_type": "code",
   "execution_count": 8,
   "id": "ff5f3412",
   "metadata": {},
   "outputs": [
    {
     "data": {
      "text/plain": [
       "int"
      ]
     },
     "execution_count": 8,
     "metadata": {},
     "output_type": "execute_result"
    }
   ],
   "source": [
    "type(b)"
   ]
  },
  {
   "cell_type": "code",
   "execution_count": 9,
   "id": "772c6b53",
   "metadata": {},
   "outputs": [
    {
     "data": {
      "text/plain": [
       "int"
      ]
     },
     "execution_count": 9,
     "metadata": {},
     "output_type": "execute_result"
    }
   ],
   "source": [
    "type(c)"
   ]
  },
  {
   "cell_type": "markdown",
   "id": "171b74a7",
   "metadata": {},
   "source": [
    "### 실수형"
   ]
  },
  {
   "cell_type": "code",
   "execution_count": 59,
   "id": "5ed3b653",
   "metadata": {},
   "outputs": [],
   "source": [
    "# 양의 실수, 음의 실수 : float\n",
    "a = 1.3\n",
    "b = -2.4\n",
    "c = 0.0"
   ]
  },
  {
   "cell_type": "code",
   "execution_count": 15,
   "id": "58f21f86",
   "metadata": {},
   "outputs": [
    {
     "data": {
      "text/plain": [
       "float"
      ]
     },
     "execution_count": 15,
     "metadata": {},
     "output_type": "execute_result"
    }
   ],
   "source": [
    "# 실수 타입을 확인해주세요.\n",
    "type(a)"
   ]
  },
  {
   "cell_type": "code",
   "execution_count": 17,
   "id": "18624ba1",
   "metadata": {},
   "outputs": [
    {
     "data": {
      "text/plain": [
       "float"
      ]
     },
     "execution_count": 17,
     "metadata": {},
     "output_type": "execute_result"
    }
   ],
   "source": [
    "type(b)"
   ]
  },
  {
   "cell_type": "code",
   "execution_count": 18,
   "id": "a2944414",
   "metadata": {},
   "outputs": [
    {
     "data": {
      "text/plain": [
       "float"
      ]
     },
     "execution_count": 18,
     "metadata": {},
     "output_type": "execute_result"
    }
   ],
   "source": [
    "type(c)"
   ]
  },
  {
   "cell_type": "code",
   "execution_count": 19,
   "id": "401b965f",
   "metadata": {},
   "outputs": [
    {
     "name": "stdout",
     "output_type": "stream",
     "text": [
      "<class 'int'> <class 'float'>\n"
     ]
    }
   ],
   "source": [
    "# 0 vs 0.0\n",
    "print(type(0), type(0.0))"
   ]
  },
  {
   "cell_type": "code",
   "execution_count": 20,
   "id": "b5517ef5",
   "metadata": {},
   "outputs": [],
   "source": [
    "# 정수와 실수가 다른 숫자로 인식되는 이유는\n",
    "# 2의보수방식, 살수 이진수 표현 2개 키워드로 검색하면 확인할 수 있습니다."
   ]
  },
  {
   "cell_type": "markdown",
   "id": "93e83b5b",
   "metadata": {},
   "source": [
    "## >연산자\n",
    "- 산술 : +,-,*,/,//(몫),%(나머지)\n",
    "- 비교 : ==(값이 같은지), !=(값이 다른지), <=,>=,<,>\n",
    "- 논리 : and, or\n",
    "- 할당 : =, +=(누적합), -=(누적차), *=(누적곱), /=(몫만 남기기), %=(나머지만 남기기)"
   ]
  },
  {
   "cell_type": "markdown",
   "id": "d91b7754",
   "metadata": {},
   "source": [
    "### 1) 산술연산자 : 숫자를 계산하기 위한 문법 기호"
   ]
  },
  {
   "cell_type": "code",
   "execution_count": 25,
   "id": "6c8b7397",
   "metadata": {},
   "outputs": [
    {
     "data": {
      "text/plain": [
       "13.4"
      ]
     },
     "execution_count": 25,
     "metadata": {},
     "output_type": "execute_result"
    }
   ],
   "source": [
    "# 더하기 : +\n",
    "# 정수 + 정수 => 정수로 출력\n",
    "10 + 3\n",
    "# 실수 + 실수 => 실수로 출력\n",
    "13.3 + 2.4\n",
    "# 정수 + 실수 => 실수로 출력\n",
    "10 + 3.4"
   ]
  },
  {
   "cell_type": "code",
   "execution_count": 31,
   "id": "1369d5d7",
   "metadata": {},
   "outputs": [
    {
     "name": "stdout",
     "output_type": "stream",
     "text": [
      "7\n",
      "-4.7\n"
     ]
    }
   ],
   "source": [
    "# 빼기 : -\n",
    "# 주피터노트북은 print() 가장 마지막 줄의 결과만 화면에 보여줍니다.\n",
    "# 만약 모든 줄의 결과를 화면에 보여주고 싶다면 매 구문마다 print() 구문을 써줘야 합니다.\n",
    "print(10-3)\n",
    "print(3-7.7)"
   ]
  },
  {
   "cell_type": "code",
   "execution_count": 33,
   "id": "247d40ab",
   "metadata": {},
   "outputs": [
    {
     "data": {
      "text/plain": [
       "3.5"
      ]
     },
     "execution_count": 33,
     "metadata": {},
     "output_type": "execute_result"
    }
   ],
   "source": [
    "# 나누기 : /\n",
    "# 파이썬만 정수 나누기 정수도 실수로 출력합니다.\n",
    "# 자바. cpp 등의 대다수 언어는 정수/정수는 무조건 정수로 나옵니다.\n",
    "3 / 3\n",
    "7 / 2"
   ]
  },
  {
   "cell_type": "code",
   "execution_count": 37,
   "id": "846519ef",
   "metadata": {},
   "outputs": [
    {
     "data": {
      "text/plain": [
       "-5"
      ]
     },
     "execution_count": 37,
     "metadata": {},
     "output_type": "execute_result"
    }
   ],
   "source": [
    "# 곱하기 : *\n",
    "3 * 5\n",
    "-3 * 5\n",
    "# 파이썬에서도 사칙연산의 우선순위를 ()로 조절할 수 있습니다.\n",
    "(3 - 4) * 5"
   ]
  },
  {
   "cell_type": "code",
   "execution_count": 42,
   "id": "89079f30",
   "metadata": {},
   "outputs": [
    {
     "data": {
      "text/plain": [
       "-2"
      ]
     },
     "execution_count": 42,
     "metadata": {},
     "output_type": "execute_result"
    }
   ],
   "source": [
    "# 정수 몫 반환 : //\n",
    "# 나눗셈의 결과값보다 작은 정수중에 가장 큰 정수\n",
    "-5 // 4"
   ]
  },
  {
   "cell_type": "code",
   "execution_count": 43,
   "id": "28d0c553",
   "metadata": {},
   "outputs": [
    {
     "data": {
      "text/plain": [
       "3"
      ]
     },
     "execution_count": 43,
     "metadata": {},
     "output_type": "execute_result"
    }
   ],
   "source": [
    "# 정수 몫을 구하고 남은 나머지만 반환 : %\n",
    "3 % 4"
   ]
  },
  {
   "cell_type": "code",
   "execution_count": 49,
   "id": "2f791b4f",
   "metadata": {},
   "outputs": [
    {
     "name": "stdout",
     "output_type": "stream",
     "text": [
      "49\n",
      "4\n",
      "9\n"
     ]
    },
    {
     "data": {
      "text/plain": [
       "1.4142135623730951"
      ]
     },
     "execution_count": 49,
     "metadata": {},
     "output_type": "execute_result"
    }
   ],
   "source": [
    "# 지수 : **\n",
    "print(7 ** 2)\n",
    "print(2 ** 2)\n",
    "print(3 ** 2)\n",
    "# 제곱근, 세제곱근 등도 계산 가능\n",
    "2 ** 0.5\n"
   ]
  },
  {
   "cell_type": "markdown",
   "id": "b5de1c6c",
   "metadata": {},
   "source": [
    "### 2) 비교연산자 : 자료를 비교하기 위한 문법 기호\n",
    "    - 결과가 숫자가 아니라  bool type의 결과를 가진다\n",
    "    \n",
    " >##### bool type\n",
    "     - True : 0이 아닌 숫자, 참인 조건식 등\n",
    "     - False : 0, 거짓인 조건식 등\n",
    "     \n",
    "- 값에 대한 비교 : ==, !=\n",
    "- 크기에 대한 비교 : >, <, >=, <="
   ]
  },
  {
   "cell_type": "code",
   "execution_count": 54,
   "id": "b4623183",
   "metadata": {},
   "outputs": [
    {
     "name": "stdout",
     "output_type": "stream",
     "text": [
      "True\n",
      "False\n"
     ]
    }
   ],
   "source": [
    "# 두 값이 같은지 비교 : ==\n",
    "print(0 == 0.0)\n",
    "# 자료끼리는 같다고 나오지만 자료형(자료타입)으로 비교시 다릅니다\n",
    "print(type(1) == type(1.0))"
   ]
  },
  {
   "cell_type": "code",
   "execution_count": 55,
   "id": "ef8db073",
   "metadata": {},
   "outputs": [
    {
     "data": {
      "text/plain": [
       "True"
      ]
     },
     "execution_count": 55,
     "metadata": {},
     "output_type": "execute_result"
    }
   ],
   "source": [
    "# 두 값이 다른지 비교 : !=\n",
    "# 두값이 다르면 True, 같으면 False\n",
    "type(0) != type(0.0)"
   ]
  },
  {
   "cell_type": "code",
   "execution_count": 58,
   "id": "f3c5531a",
   "metadata": {},
   "outputs": [
    {
     "name": "stdout",
     "output_type": "stream",
     "text": [
      "True\n",
      "False\n"
     ]
    }
   ],
   "source": [
    "# 두 값의 크기를 비교 : >=, <=,<,>\n",
    "print(4 >= 3)\n",
    "print(2 >= 3)"
   ]
  },
  {
   "cell_type": "markdown",
   "id": "18b647cd",
   "metadata": {},
   "source": [
    "##### 3) 논리연산자\n",
    "- 여러 개의 조건식을 활용하기 위한 명령어\n",
    "- bool type 결과 반환 : True , False"
   ]
  },
  {
   "cell_type": "code",
   "execution_count": 63,
   "id": "b324a580",
   "metadata": {},
   "outputs": [
    {
     "name": "stdout",
     "output_type": "stream",
     "text": [
      "False\n",
      "True\n"
     ]
    }
   ],
   "source": [
    "# and 연산자 : 조건식1 and 조건식2\n",
    "# 조건식1과 조건식2가 모두 True면 최종결과는 True\n",
    "# 둘 중 하나만 False여도 최종결과는 False\n",
    "# 둘 다 False이면 최종결과는 False\n",
    "print(10 < 12 and 0> 3)\n",
    "print(10 < 12 or 0> 3)"
   ]
  },
  {
   "cell_type": "code",
   "execution_count": 66,
   "id": "015a9bdd",
   "metadata": {},
   "outputs": [
    {
     "name": "stdout",
     "output_type": "stream",
     "text": [
      "True\n",
      "False\n"
     ]
    }
   ],
   "source": [
    "# bool(자료) 는 해당 자료의 참, 거짓을 판단해준다.\n",
    "# 0을 제외한 모든 숫자는 참 으로 나타난다\n",
    "print(bool(10< 12))\n",
    "print(bool(0)) "
   ]
  },
  {
   "cell_type": "markdown",
   "id": "16d72ec9",
   "metadata": {},
   "source": [
    "##### 4) 할당연산자\n",
    "\n",
    "- 변수 할당\n",
    "- 누적 연산"
   ]
  },
  {
   "cell_type": "code",
   "execution_count": 69,
   "id": "eccbae09",
   "metadata": {},
   "outputs": [],
   "source": [
    "#변수명(왼쪽)에 변숫값(오른쪽)을 할당/선언/저장 : =\n",
    "# x에 10을 대입해주세요.\n",
    "x = 10\n"
   ]
  },
  {
   "cell_type": "code",
   "execution_count": 74,
   "id": "c3a6d41a",
   "metadata": {},
   "outputs": [],
   "source": [
    "# 숫자형의 누적 합계 +=\n",
    "# result라는 변수에 누적합을 저장하기\n",
    "result = 0\n",
    "# result에 x만큼 더해서 저장하기 위해 원래 사용하던 코드\n",
    "result = result + x"
   ]
  },
  {
   "cell_type": "code",
   "execution_count": 75,
   "id": "60ebdd4c",
   "metadata": {},
   "outputs": [],
   "source": [
    "# result를 한 번 만 쓰고도 x만큼 더해서 저장까지 하는 코드\n",
    "result +=x"
   ]
  },
  {
   "cell_type": "code",
   "execution_count": 76,
   "id": "a8e59d52",
   "metadata": {},
   "outputs": [
    {
     "data": {
      "text/plain": [
       "20"
      ]
     },
     "execution_count": 76,
     "metadata": {},
     "output_type": "execute_result"
    }
   ],
   "source": [
    "result"
   ]
  },
  {
   "cell_type": "code",
   "execution_count": 77,
   "id": "53b08e70",
   "metadata": {},
   "outputs": [
    {
     "data": {
      "text/plain": [
       "19"
      ]
     },
     "execution_count": 77,
     "metadata": {},
     "output_type": "execute_result"
    }
   ],
   "source": [
    "# 숫자형의 누적 차\n",
    "result -= 1\n",
    "result \n"
   ]
  },
  {
   "cell_type": "code",
   "execution_count": 81,
   "id": "c11c89d9",
   "metadata": {},
   "outputs": [
    {
     "data": {
      "text/plain": [
       "304"
      ]
     },
     "execution_count": 81,
     "metadata": {},
     "output_type": "execute_result"
    }
   ],
   "source": [
    "#누적 곱\n",
    "# result를 2배로 곱해서 저장해주세요.\n",
    "result *= 2\n",
    "result"
   ]
  },
  {
   "cell_type": "markdown",
   "id": "d078f3c2",
   "metadata": {},
   "source": [
    "### 1. 홍길동의 시험 성적 평균을 구하세요\n",
    "    ㅣ 영어 80점 ㅣ 국어 72점 ㅣ 수학 90점 ㅣ 사회 66점 ㅣ\n",
    "* 변수를 사용해서 과목의 평균을 구해보세요.\n",
    "* 출력 양식: <br>\n",
    "총합 308 <br>\n",
    "평균 77"
   ]
  },
  {
   "cell_type": "code",
   "execution_count": 83,
   "id": "ce5c29e6",
   "metadata": {},
   "outputs": [
    {
     "name": "stdout",
     "output_type": "stream",
     "text": [
      "77.0\n"
     ]
    }
   ],
   "source": [
    "eng = 80\n",
    "kor = 72\n",
    "math = 90\n",
    "social = 66\n",
    "\n",
    "print((eng + kor + math + social)/4)"
   ]
  },
  {
   "cell_type": "code",
   "execution_count": 84,
   "id": "e8539c87",
   "metadata": {},
   "outputs": [],
   "source": [
    "# 총합 구해서 total 변수에 저장하기\n",
    "total = eng + kor + math + social"
   ]
  },
  {
   "cell_type": "code",
   "execution_count": 85,
   "id": "0ea21c33",
   "metadata": {},
   "outputs": [],
   "source": [
    "# 평균 구해서 avg 변수에 저장하기\n",
    "avg = total / 4"
   ]
  },
  {
   "cell_type": "code",
   "execution_count": 87,
   "id": "13204b94",
   "metadata": {},
   "outputs": [
    {
     "name": "stdout",
     "output_type": "stream",
     "text": [
      "총합 308\n",
      "평균 77.0\n"
     ]
    }
   ],
   "source": [
    "# print문을 이용해 총합과 평균 출력하기\n",
    "print(\"총합\", total)\n",
    "print(\"평균\", avg)\n"
   ]
  },
  {
   "cell_type": "code",
   "execution_count": null,
   "id": "11545ce8",
   "metadata": {},
   "outputs": [],
   "source": []
  },
  {
   "cell_type": "code",
   "execution_count": null,
   "id": "dfd3c749",
   "metadata": {},
   "outputs": [],
   "source": []
  },
  {
   "cell_type": "code",
   "execution_count": null,
   "id": "bbc24a29",
   "metadata": {},
   "outputs": [],
   "source": []
  },
  {
   "cell_type": "code",
   "execution_count": null,
   "id": "f7eb7410",
   "metadata": {},
   "outputs": [],
   "source": []
  },
  {
   "cell_type": "code",
   "execution_count": null,
   "id": "6e88a1b7",
   "metadata": {},
   "outputs": [],
   "source": []
  },
  {
   "cell_type": "code",
   "execution_count": null,
   "id": "48dd81dd",
   "metadata": {},
   "outputs": [],
   "source": []
  }
 ],
 "metadata": {
  "kernelspec": {
   "display_name": "Python 3 (ipykernel)",
   "language": "python",
   "name": "python3"
  },
  "language_info": {
   "codemirror_mode": {
    "name": "ipython",
    "version": 3
   },
   "file_extension": ".py",
   "mimetype": "text/x-python",
   "name": "python",
   "nbconvert_exporter": "python",
   "pygments_lexer": "ipython3",
   "version": "3.9.12"
  }
 },
 "nbformat": 4,
 "nbformat_minor": 5
}
