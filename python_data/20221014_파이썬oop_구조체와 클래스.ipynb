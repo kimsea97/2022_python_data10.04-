{
 "cells": [
  {
   "cell_type": "markdown",
   "id": "998cf4f1",
   "metadata": {},
   "source": [
    "# 구조체\n",
    "\n",
    "클래스 이전에 구조체를 먼저 공부하는 이유는 클래스가 C언어의 구조체에서 확장된 개념이기 때문입니다.\n",
    "\n",
    "구조체란 배열과는 달리 인덱스가 아닌 \"변수명\"으로 특정 대상을 프로그래밍적으로 묘사하기 위해 사용합니다.\n",
    "\n",
    "## 추상화\n",
    "\n",
    "추상화는 대상을 간단하게 표현하는것을 의미합니다.\n",
    "\n",
    "이를테면 사람을 만약 컴퓨터적으로 표현한다면 원래대로라면 표현해야하는 요소가 너무 많습니다.\n",
    "\n",
    "그렇지만 프로그램적으로 표현 요소를 줄이고 줄여서 피수적인 요소만표현하는것이 개발에 유리하기에\n",
    "\n",
    "추상화를 하게됩니다.\n",
    "\n",
    "#### 추상화 예시\n",
    "\n",
    "고양이의 요소 : 털 색깔, 수염 모수, 몸무게, 품종, 이름, 나이, 선호하는 간식, 거주지, 성별, 주인 등등 매우많음\n",
    "\n",
    "동물병원에 등록하는데 필요한 정보 : 주인, 이름, 나이, 품종(, 성별, 몸무게, 키, 방문기록)\n",
    "\n",
    "개발시에는 개발자가 고려할 수 있는(혹은 기능이 요구하는 최소한의) 사항만을 정의합니다."
   ]
  },
  {
   "cell_type": "code",
   "execution_count": 5,
   "id": "4402b174",
   "metadata": {},
   "outputs": [],
   "source": [
    "# 클래스(구조체) 구현 문법\n",
    "# class 뒤에 오는 단어 첫글자는 대문자로 처리한다.\n",
    "# 설계도처럼 작용하기 때문에 실제로 변수를 생성하기 전까지는\n",
    "# 아래 적힌 코드는 따로 기능하지 않습니다.\n",
    "class Cat:\n",
    "    name =\"\"\n",
    "    age = 0\n",
    "    cat_type = \"\"\n",
    "    owner = \"\""
   ]
  },
  {
   "cell_type": "code",
   "execution_count": 8,
   "id": "e4fc8d15",
   "metadata": {},
   "outputs": [],
   "source": [
    "# 실제로는 생성을 해 줘야 가능합니다.\n",
    "# 클래스 생성을 저장받은 변수를 객체(object) 혹은 인스턴스(instance) 라고 호칭합니다.\n",
    "\n",
    "cat1 = Cat()\n",
    "cat2 = Cat()"
   ]
  },
  {
   "cell_type": "code",
   "execution_count": 12,
   "id": "e3120be5",
   "metadata": {},
   "outputs": [
    {
     "name": "stdout",
     "output_type": "stream",
     "text": [
      "<__main__.Cat object at 0x000001F7E4D1B400>\n",
      "<__main__.Cat object at 0x000001F7E5193580>\n"
     ]
    }
   ],
   "source": [
    "print(cat1)\n",
    "print(cat2)"
   ]
  },
  {
   "cell_type": "code",
   "execution_count": 22,
   "id": "bb0be4fc",
   "metadata": {},
   "outputs": [],
   "source": [
    "cat1.name =\"룰루\"\n",
    "cat1.age = 2\n",
    "cat1.cat_type = \"스코티시 폴드\"\n",
    "cat1.owner = \"이미영\""
   ]
  },
  {
   "cell_type": "code",
   "execution_count": 23,
   "id": "9dc029ea",
   "metadata": {},
   "outputs": [],
   "source": [
    "cat2.name = \"어완자\"\n",
    "cat2.age = 1\n",
    "cat2.cat_type = \"엑조틱숏헤어\"\n",
    "cat2.owner = \"양정\""
   ]
  },
  {
   "cell_type": "code",
   "execution_count": 24,
   "id": "636410d8",
   "metadata": {},
   "outputs": [
    {
     "name": "stdout",
     "output_type": "stream",
     "text": [
      "룰루\n",
      "어완자\n"
     ]
    }
   ],
   "source": [
    "print(cat1.name)\n",
    "print(cat2.name)"
   ]
  },
  {
   "cell_type": "markdown",
   "id": "a34f1a33",
   "metadata": {},
   "source": [
    "# 여러분들이 임의의 구조체를 생성해주세요\n",
    "\n",
    "종류는 알아서 해 주시고, 최소 2개 이상의 객체를 생성해주시면서\n",
    "\n",
    "자율적으로 메모리 구조 그림까지 그림판에 수기로 그려주세요."
   ]
  },
  {
   "cell_type": "code",
   "execution_count": 43,
   "id": "2ca6eae3",
   "metadata": {},
   "outputs": [],
   "source": [
    "class Dog:\n",
    "    name = \"\"\n",
    "    age = 0\n",
    "    dog_type = \"\"\n",
    "    gender = \"\""
   ]
  },
  {
   "cell_type": "code",
   "execution_count": 44,
   "id": "42b26cd4",
   "metadata": {},
   "outputs": [],
   "source": [
    "dog1 = Dog()\n",
    "dog2 = Dog()\n"
   ]
  },
  {
   "cell_type": "code",
   "execution_count": 54,
   "id": "ae90ebbf",
   "metadata": {},
   "outputs": [],
   "source": [
    "dog1.name = \"사랑\"\n",
    "dog1.age = 17\n",
    "dog1.dog_type = \"말티즈\"\n",
    "dog1.gender = \"남(중성화완료)\""
   ]
  },
  {
   "cell_type": "code",
   "execution_count": 55,
   "id": "6967549a",
   "metadata": {},
   "outputs": [],
   "source": [
    "dog2.name = \"나르\"\n",
    "dog2.age = 6\n",
    "dog2.dog_type =\"시바\"\n",
    "dog2.gender =\"여(중성화완료)\""
   ]
  },
  {
   "cell_type": "code",
   "execution_count": 56,
   "id": "b47d174d",
   "metadata": {},
   "outputs": [
    {
     "name": "stdout",
     "output_type": "stream",
     "text": [
      "남(중성화완료)\n",
      "여(중성화완료)\n"
     ]
    }
   ],
   "source": [
    "print(dog1.gender)\n",
    "print(dog2.gender)"
   ]
  },
  {
   "cell_type": "markdown",
   "id": "7458cd26",
   "metadata": {},
   "source": [
    "# 구조체와 전용 함수\n",
    "\n",
    "위에서 cat에 대한 정보를 기입했을때 하나하나 print() 구문으로 이름과 나이, 품종을 조사 해야 해서 불편합니다.\n",
    "\n",
    "이럴때 함수를 선언해두면 편하게 조회할 수 있습니다.\n"
   ]
  },
  {
   "cell_type": "code",
   "execution_count": 57,
   "id": "f692fdb7",
   "metadata": {},
   "outputs": [],
   "source": [
    "# cat을 한마리 더 만들어주세요.\n",
    "# 이름, 나이, 주인, 품종까지 모두 기입해주세요.\n",
    "\n",
    "cat3 = Cat()\n",
    "cat3.name = \"베로\"\n",
    "cat3.age = 3\n",
    "cat3.cat_type = \"스코티시폴드\"\n",
    "cat3.owner = \"레오제이\""
   ]
  },
  {
   "cell_type": "code",
   "execution_count": 58,
   "id": "cc0f9b2a",
   "metadata": {},
   "outputs": [
    {
     "name": "stdout",
     "output_type": "stream",
     "text": [
      "이름 : 베로. 나이 : 3, 품종 : 스코티시폴드, 주인 : 레오제이\n"
     ]
    }
   ],
   "source": [
    "print(\"이름 : %s. 나이 : %s, 품종 : %s, 주인 : %s\" %\n",
    "      (cat3.name, cat3.age, cat3.cat_type, cat3.owner))"
   ]
  },
  {
   "cell_type": "code",
   "execution_count": 59,
   "id": "a2144d88",
   "metadata": {},
   "outputs": [],
   "source": [
    "# Cat 자료형의 전용 함수\n",
    "def show_cat_info(cat):\n",
    "    print(\"이름 : %s. 나이 : %s, 품종 : %s, 주인 : %s\" %\n",
    "      (cat.name, cat.age, cat.cat_type, cat.owner))"
   ]
  },
  {
   "cell_type": "code",
   "execution_count": 60,
   "id": "a8bee1c1",
   "metadata": {},
   "outputs": [
    {
     "name": "stdout",
     "output_type": "stream",
     "text": [
      "이름 : 룰루. 나이 : 2, 품종 : 스코티시 폴드, 주인 : 이미영\n",
      "이름 : 베로. 나이 : 3, 품종 : 스코티시폴드, 주인 : 레오제이\n",
      "이름 : 어완자. 나이 : 1, 품종 : 엑조틱숏헤어, 주인 : 양정\n"
     ]
    }
   ],
   "source": [
    "show_cat_info(cat1)\n",
    "show_cat_info(cat3)\n",
    "show_cat_info(cat2)\n"
   ]
  },
  {
   "cell_type": "code",
   "execution_count": 68,
   "id": "145e6b33",
   "metadata": {
    "collapsed": true
   },
   "outputs": [
    {
     "ename": "AttributeError",
     "evalue": "'Dog' object has no attribute 'cat_type'",
     "output_type": "error",
     "traceback": [
      "\u001b[1;31m---------------------------------------------------------------------------\u001b[0m",
      "\u001b[1;31mAttributeError\u001b[0m                            Traceback (most recent call last)",
      "Input \u001b[1;32mIn [68]\u001b[0m, in \u001b[0;36m<cell line: 2>\u001b[1;34m()\u001b[0m\n\u001b[0;32m      1\u001b[0m \u001b[38;5;66;03m# Cat 전용인지 비교할 수 있도록 dog를 선언하겠습니다.\u001b[39;00m\n\u001b[1;32m----> 2\u001b[0m \u001b[43mshow_cat_info\u001b[49m\u001b[43m(\u001b[49m\u001b[43mdog1\u001b[49m\u001b[43m)\u001b[49m\n",
      "Input \u001b[1;32mIn [59]\u001b[0m, in \u001b[0;36mshow_cat_info\u001b[1;34m(cat)\u001b[0m\n\u001b[0;32m      2\u001b[0m \u001b[38;5;28;01mdef\u001b[39;00m \u001b[38;5;21mshow_cat_info\u001b[39m(cat):\n\u001b[0;32m      3\u001b[0m     \u001b[38;5;28mprint\u001b[39m(\u001b[38;5;124m\"\u001b[39m\u001b[38;5;124m이름 : \u001b[39m\u001b[38;5;132;01m%s\u001b[39;00m\u001b[38;5;124m. 나이 : \u001b[39m\u001b[38;5;132;01m%s\u001b[39;00m\u001b[38;5;124m, 품종 : \u001b[39m\u001b[38;5;132;01m%s\u001b[39;00m\u001b[38;5;124m, 주인 : \u001b[39m\u001b[38;5;132;01m%s\u001b[39;00m\u001b[38;5;124m\"\u001b[39m \u001b[38;5;241m%\u001b[39m\n\u001b[1;32m----> 4\u001b[0m       (cat\u001b[38;5;241m.\u001b[39mname, cat\u001b[38;5;241m.\u001b[39mage, \u001b[43mcat\u001b[49m\u001b[38;5;241;43m.\u001b[39;49m\u001b[43mcat_type\u001b[49m, cat\u001b[38;5;241m.\u001b[39mowner))\n",
      "\u001b[1;31mAttributeError\u001b[0m: 'Dog' object has no attribute 'cat_type'"
     ]
    }
   ],
   "source": [
    "# Cat 전용인지 비교할 수 있도록 dog를 선언하겠습니다.\n",
    "show_cat_info(dog1)\n"
   ]
  },
  {
   "cell_type": "markdown",
   "id": "af38d442",
   "metadata": {},
   "source": [
    "### 아까 임의로 만든 클래스 관련\n",
    "\n",
    "해당 클래스를 이용해 생성한 변수(객체)의 정보를 콘솔에 찍을 수 있는\n",
    "\n",
    "전용 함수를 생성하고 실제로 사용까지 해주세요.\n",
    "\n",
    "제출은 함수 코드와 클래스 및 객체 생성 코드를 캡쳐하거나 복붙해주시면 됩니다."
   ]
  },
  {
   "cell_type": "code",
   "execution_count": 64,
   "id": "b70b0a7e",
   "metadata": {},
   "outputs": [
    {
     "name": "stdout",
     "output_type": "stream",
     "text": [
      "이름 : 사랑. 나이 : 17, 품종 : 말티즈, 성별 : 남(중성화완료)\n",
      "이름 : 나르. 나이 : 6, 품종 : 시바, 성별 : 여(중성화완료)\n"
     ]
    }
   ],
   "source": [
    "def print_dog_info(dog):\n",
    "    print(\"이름 : %s. 나이 : %s, 품종 : %s, 성별 : %s\" %\n",
    "      (dog.name, dog.age, dog.dog_type, dog.gender))\n",
    "show_dog_info(dog1)\n",
    "show_dog_info(dog2)"
   ]
  },
  {
   "cell_type": "markdown",
   "id": "243f407d",
   "metadata": {},
   "source": [
    "### 특정 구조체 전용 함수를 외부에 선언할 필요가 있는가?\n",
    "\n",
    "특정 구조체에서만 사용할 함수를, 굳이 외부에 빼서 혼란을 야기할 필요가 없다는 결론을 내렸습니다.\n",
    "\n",
    "그래서 클래스에서는 이제 변수와 함께 함수를 같은 소속이라 선언합니다.\n",
    "\n",
    "이렇게 클래스 내부에 선언된 함수를 가리켜 메서드라고 부릅니다."
   ]
  },
  {
   "cell_type": "code",
   "execution_count": 113,
   "id": "5091bdeb",
   "metadata": {},
   "outputs": [],
   "source": [
    "class Computer:\n",
    "    cpu = \"\"\n",
    "    ram = 0\n",
    "    ssd = 0\n",
    "    \n",
    "    # 메서드는 기본적으로 대부분의경우 self를 파라미터로 선언해주셔야합니다.\n",
    "    def get_info():\n",
    "        print(\"cpu: %s, ram : %sGb, ssd : %sGb\" %\n",
    "              (self.cpu, self.ram, self.ssd))"
   ]
  },
  {
   "cell_type": "code",
   "execution_count": 83,
   "id": "d22770c4",
   "metadata": {},
   "outputs": [],
   "source": [
    "# 컴퓨터 객체를 생성하고, cpu,ram,ssd에 임의의값을 지정해주신다음\n",
    "# 매서드 호출로 콘솔에 정보를 찍어주세요."
   ]
  },
  {
   "cell_type": "code",
   "execution_count": 112,
   "id": "936b1bc7",
   "metadata": {},
   "outputs": [],
   "source": [
    "c1 = Computer()\n",
    "c1.cpu = \"AMD라이젠 7세대\"\n",
    "c1.ram = 32 \n",
    "c1.ssd = 500\n",
    "\n"
   ]
  },
  {
   "cell_type": "code",
   "execution_count": 115,
   "id": "1fdc302c",
   "metadata": {
    "collapsed": true
   },
   "outputs": [
    {
     "ename": "TypeError",
     "evalue": "get_info() takes 0 positional arguments but 1 was given",
     "output_type": "error",
     "traceback": [
      "\u001b[1;31m---------------------------------------------------------------------------\u001b[0m",
      "\u001b[1;31mTypeError\u001b[0m                                 Traceback (most recent call last)",
      "Input \u001b[1;32mIn [115]\u001b[0m, in \u001b[0;36m<cell line: 4>\u001b[1;34m()\u001b[0m\n\u001b[0;32m      2\u001b[0m c1\u001b[38;5;241m.\u001b[39mram \u001b[38;5;241m=\u001b[39m \u001b[38;5;241m32\u001b[39m \n\u001b[0;32m      3\u001b[0m c1\u001b[38;5;241m.\u001b[39mssd \u001b[38;5;241m=\u001b[39m \u001b[38;5;241m500\u001b[39m\n\u001b[1;32m----> 4\u001b[0m \u001b[43mc1\u001b[49m\u001b[38;5;241;43m.\u001b[39;49m\u001b[43mget_info\u001b[49m\u001b[43m(\u001b[49m\u001b[43m)\u001b[49m\n",
      "\u001b[1;31mTypeError\u001b[0m: get_info() takes 0 positional arguments but 1 was given"
     ]
    }
   ],
   "source": [
    "c1.cpu = \"AMD라이젠 7세대\"\n",
    "c1.ram = 32 \n",
    "c1.ssd = 500\n",
    "c1.get_info()"
   ]
  },
  {
   "cell_type": "markdown",
   "id": "aae53306",
   "metadata": {},
   "source": [
    "# 여러분들이 직접 \"클래스\"를 만들어주시고\n",
    "\n",
    "조회메서드를 하나 생성해주세요.\n",
    "\n",
    "그리고 메모리 구조를 그려서 슬랙에 캡쳐떠서 제출해주시면 됩니다."
   ]
  },
  {
   "cell_type": "code",
   "execution_count": null,
   "id": "30ce116d",
   "metadata": {},
   "outputs": [],
   "source": []
  },
  {
   "cell_type": "code",
   "execution_count": 137,
   "id": "28df198d",
   "metadata": {},
   "outputs": [
    {
     "ename": "IndentationError",
     "evalue": "expected an indented block (1170362337.py, line 6)",
     "output_type": "error",
     "traceback": [
      "\u001b[1;36m  Input \u001b[1;32mIn [137]\u001b[1;36m\u001b[0m\n\u001b[1;33m    print(\"이름 : %s. 추천메뉴 : %s, 가격 : %s\" %\u001b[0m\n\u001b[1;37m    ^\u001b[0m\n\u001b[1;31mIndentationError\u001b[0m\u001b[1;31m:\u001b[0m expected an indented block\n"
     ]
    }
   ],
   "source": [
    "class Chiken:\n",
    "    name = \"\"\n",
    "    best_menu = \"\"\n",
    "    price = 0\n",
    "    \n"
   ]
  },
  {
   "cell_type": "code",
   "execution_count": 133,
   "id": "4d6df2b8",
   "metadata": {},
   "outputs": [],
   "source": [
    "chiken1 = Chiken()\n",
    "chiken2 = Chiken()"
   ]
  },
  {
   "cell_type": "code",
   "execution_count": 134,
   "id": "963b7358",
   "metadata": {},
   "outputs": [],
   "source": [
    "chiken1.name = \"bbq\"\n",
    "chiken1.best_menu = \"황금올리브\"\n",
    "chiken1.price = 20000"
   ]
  },
  {
   "cell_type": "code",
   "execution_count": 135,
   "id": "a974b237",
   "metadata": {},
   "outputs": [],
   "source": [
    "chiken2.name = \"bhc\"\n",
    "chiken2.best_menu = \"뿌링클\"\n",
    "chiken2.price = 17000"
   ]
  },
  {
   "cell_type": "code",
   "execution_count": 136,
   "id": "0c66be19",
   "metadata": {},
   "outputs": [
    {
     "ename": "SyntaxError",
     "evalue": "invalid syntax (2634498136.py, line 3)",
     "output_type": "error",
     "traceback": [
      "\u001b[1;36m  Input \u001b[1;32mIn [136]\u001b[1;36m\u001b[0m\n\u001b[1;33m    (chiken.name, chiken.best_menu, .chiken_price))\u001b[0m\n\u001b[1;37m                                    ^\u001b[0m\n\u001b[1;31mSyntaxError\u001b[0m\u001b[1;31m:\u001b[0m invalid syntax\n"
     ]
    }
   ],
   "source": [
    "def get_info():\n",
    "    print(\"이름 : %s. 추천메뉴 : %s, 가격 : %s\" %\n",
    "      (chiken.name, chiken.best_menu, .chiken_price))"
   ]
  },
  {
   "cell_type": "code",
   "execution_count": null,
   "id": "dc388a50",
   "metadata": {},
   "outputs": [],
   "source": []
  }
 ],
 "metadata": {
  "kernelspec": {
   "display_name": "Python 3 (ipykernel)",
   "language": "python",
   "name": "python3"
  },
  "language_info": {
   "codemirror_mode": {
    "name": "ipython",
    "version": 3
   },
   "file_extension": ".py",
   "mimetype": "text/x-python",
   "name": "python",
   "nbconvert_exporter": "python",
   "pygments_lexer": "ipython3",
   "version": "3.9.12"
  }
 },
 "nbformat": 4,
 "nbformat_minor": 5
}
