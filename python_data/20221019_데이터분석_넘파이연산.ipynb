{
 "cells": [
  {
   "cell_type": "code",
   "execution_count": 1,
   "id": "e9577dd1",
   "metadata": {},
   "outputs": [],
   "source": [
    "# 라이브러리 불러오기\n",
    "import numpy as np"
   ]
  },
  {
   "cell_type": "code",
   "execution_count": 2,
   "id": "2fb4e18f",
   "metadata": {},
   "outputs": [],
   "source": [
    "# Numpy 객체 정보를 확인하기 위한 사용자 함수 정의 : 객체타입, 구조, 차원, 데이터타입\n",
    "def np_print(arr):\n",
    "    text=\"\"\"\n",
    "    type : {}\n",
    "    shape : {}\n",
    "    dimension : {}\n",
    "    dtype : {}\n",
    "    data : \\n {}\"\"\".format(type(arr), arr.shape, arr.ndim, arr.dtype, arr)\n",
    "    print(text)"
   ]
  },
  {
   "cell_type": "markdown",
   "id": "e39033ea",
   "metadata": {},
   "source": [
    "## 산술연산\n",
    "\n",
    "- 더하기 : +, add()\n",
    "- 빼기 : -, subtract()\n",
    "- 나누기 : /, divide()\n",
    "- 곱하기 : *, multiply()\n",
    "- 지수곱 표현 : exp()\n",
    "- 제곱근 : sqrt()\n",
    "- 로그 : log()\n",
    "- 내적(행렬곱) : dot()"
   ]
  },
  {
   "cell_type": "code",
   "execution_count": 7,
   "id": "d8b80630",
   "metadata": {},
   "outputs": [
    {
     "name": "stdout",
     "output_type": "stream",
     "text": [
      "\n",
      "    type : <class 'numpy.ndarray'>\n",
      "    shape : (3, 3)\n",
      "    dimension : 2\n",
      "    dtype : int32\n",
      "    data : \n",
      " [[1 2 3]\n",
      " [4 5 6]\n",
      " [7 8 9]]\n"
     ]
    }
   ],
   "source": [
    "# 1부터 10미만의 범위(지정범위)에서 1씩 증가하는 숫자를 데이터로 가진 3행 3열의 배열\n",
    "a = np.arange(1, 10). reshape(3,3)\n",
    "np_print(a)"
   ]
  },
  {
   "cell_type": "code",
   "execution_count": 10,
   "id": "70c94354",
   "metadata": {},
   "outputs": [
    {
     "name": "stdout",
     "output_type": "stream",
     "text": [
      "\n",
      "    type : <class 'numpy.ndarray'>\n",
      "    shape : (3, 3)\n",
      "    dimension : 2\n",
      "    dtype : int32\n",
      "    data : \n",
      " [[ 4  5  6]\n",
      " [ 7  8  9]\n",
      " [10 11 12]]\n"
     ]
    }
   ],
   "source": [
    "# 4이상 13미만의 범위에서 1씩 증가하는 숫자를 데이터로 가진 3행 3열 배열 생성\n",
    "b = np.arange(4, 13). reshape(3,3)\n",
    "np_print(b)"
   ]
  },
  {
   "cell_type": "code",
   "execution_count": 12,
   "id": "e92d30a3",
   "metadata": {},
   "outputs": [
    {
     "name": "stdout",
     "output_type": "stream",
     "text": [
      "\n",
      "    type : <class 'numpy.ndarray'>\n",
      "    shape : (3, 4)\n",
      "    dimension : 2\n",
      "    dtype : int32\n",
      "    data : \n",
      " [[10 11 12 13]\n",
      " [14 15 16 17]\n",
      " [18 19 20 21]]\n"
     ]
    }
   ],
   "source": [
    "# 10~21 까지 3행 4열 형태로 만들기\n",
    "c = np.arange(10,22).reshape(3,4)\n",
    "np_print(c)"
   ]
  },
  {
   "cell_type": "markdown",
   "id": "ddebd5ad",
   "metadata": {},
   "source": [
    "### 더하기\n",
    "    - 배열 + 배열\n",
    "    - np.add(arr1,arr2)\n",
    "   "
   ]
  },
  {
   "cell_type": "code",
   "execution_count": 13,
   "id": "7e825372",
   "metadata": {},
   "outputs": [
    {
     "name": "stdout",
     "output_type": "stream",
     "text": [
      "[[1 2 3]\n",
      " [4 5 6]\n",
      " [7 8 9]]\n",
      "[[ 4  5  6]\n",
      " [ 7  8  9]\n",
      " [10 11 12]]\n"
     ]
    }
   ],
   "source": [
    "print(a)\n",
    "print(b)"
   ]
  },
  {
   "cell_type": "code",
   "execution_count": 17,
   "id": "af3c90bf",
   "metadata": {},
   "outputs": [
    {
     "data": {
      "text/plain": [
       "array([[ 5,  7,  9],\n",
       "       [11, 13, 15],\n",
       "       [17, 19, 21]])"
      ]
     },
     "execution_count": 17,
     "metadata": {},
     "output_type": "execute_result"
    }
   ],
   "source": [
    "# 산술 연산자 a + b\n",
    "np.add(a,b)"
   ]
  },
  {
   "cell_type": "code",
   "execution_count": 18,
   "id": "7914204b",
   "metadata": {
    "collapsed": true
   },
   "outputs": [
    {
     "ename": "ValueError",
     "evalue": "operands could not be broadcast together with shapes (3,3) (3,4) ",
     "output_type": "error",
     "traceback": [
      "\u001b[1;31m---------------------------------------------------------------------------\u001b[0m",
      "\u001b[1;31mValueError\u001b[0m                                Traceback (most recent call last)",
      "Input \u001b[1;32mIn [18]\u001b[0m, in \u001b[0;36m<cell line: 2>\u001b[1;34m()\u001b[0m\n\u001b[0;32m      1\u001b[0m \u001b[38;5;66;03m# 구조 다른 배열간의 산술연산시 에러 발생(+)\u001b[39;00m\n\u001b[1;32m----> 2\u001b[0m \u001b[43ma\u001b[49m\u001b[38;5;241;43m+\u001b[39;49m\u001b[43mc\u001b[49m\n",
      "\u001b[1;31mValueError\u001b[0m: operands could not be broadcast together with shapes (3,3) (3,4) "
     ]
    }
   ],
   "source": [
    "# 구조 다른 배열간의 산술연산시 에러 발생(+)\n",
    "a+c"
   ]
  },
  {
   "cell_type": "markdown",
   "id": "bd6b918d",
   "metadata": {},
   "source": [
    "### 빼기\n",
    "    \n",
    "    - 배열 - 배열\n",
    "    - np.subtract(arr1,arr2)"
   ]
  },
  {
   "cell_type": "code",
   "execution_count": 21,
   "id": "a9c93029",
   "metadata": {},
   "outputs": [
    {
     "data": {
      "text/plain": [
       "array([[-3, -3, -3],\n",
       "       [-3, -3, -3],\n",
       "       [-3, -3, -3]])"
      ]
     },
     "execution_count": 21,
     "metadata": {},
     "output_type": "execute_result"
    }
   ],
   "source": [
    "# 산술연산자 a-b\n",
    "# 메서드 활용\n",
    "np.subtract(a,b)"
   ]
  },
  {
   "cell_type": "code",
   "execution_count": 23,
   "id": "93af1435",
   "metadata": {},
   "outputs": [
    {
     "data": {
      "text/plain": [
       "array([[3, 3, 3],\n",
       "       [3, 3, 3],\n",
       "       [3, 3, 3]])"
      ]
     },
     "execution_count": 23,
     "metadata": {},
     "output_type": "execute_result"
    }
   ],
   "source": [
    "# 방향에 따른 값 비교(나누기,빼기)\n",
    "np.subtract(b,a)"
   ]
  },
  {
   "cell_type": "markdown",
   "id": "75cbc269",
   "metadata": {},
   "source": [
    "### 나누기\n",
    "\n",
    "    - 배열 / 배열\n",
    "    - np.divide(arr1,arr2)"
   ]
  },
  {
   "cell_type": "code",
   "execution_count": 27,
   "id": "22c51bbd",
   "metadata": {},
   "outputs": [
    {
     "data": {
      "text/plain": [
       "array([[0.25      , 0.4       , 0.5       ],\n",
       "       [0.57142857, 0.625     , 0.66666667],\n",
       "       [0.7       , 0.72727273, 0.75      ]])"
      ]
     },
     "execution_count": 27,
     "metadata": {},
     "output_type": "execute_result"
    }
   ],
   "source": [
    "# 산술연산자 \n",
    "a / b"
   ]
  },
  {
   "cell_type": "code",
   "execution_count": 30,
   "id": "6bfcd5b7",
   "metadata": {},
   "outputs": [
    {
     "data": {
      "text/plain": [
       "array([[0.25      , 0.4       , 0.5       ],\n",
       "       [0.57142857, 0.625     , 0.66666667],\n",
       "       [0.7       , 0.72727273, 0.75      ]])"
      ]
     },
     "execution_count": 30,
     "metadata": {},
     "output_type": "execute_result"
    }
   ],
   "source": [
    "# 메서드\n",
    "np.divide(a,b)"
   ]
  },
  {
   "cell_type": "code",
   "execution_count": 31,
   "id": "56f27ccf",
   "metadata": {},
   "outputs": [
    {
     "data": {
      "text/plain": [
       "array([[4.        , 2.5       , 2.        ],\n",
       "       [1.75      , 1.6       , 1.5       ],\n",
       "       [1.42857143, 1.375     , 1.33333333]])"
      ]
     },
     "execution_count": 31,
     "metadata": {},
     "output_type": "execute_result"
    }
   ],
   "source": [
    "np.divide(b,a)"
   ]
  },
  {
   "cell_type": "markdown",
   "id": "210c4ebf",
   "metadata": {},
   "source": [
    "### 곱하기\n",
    "    - 배열 * 배열\n",
    "    - np.multiply(arr1,arr2)"
   ]
  },
  {
   "cell_type": "code",
   "execution_count": 32,
   "id": "ab9795c7",
   "metadata": {},
   "outputs": [
    {
     "data": {
      "text/plain": [
       "array([[  4,  10,  18],\n",
       "       [ 28,  40,  54],\n",
       "       [ 70,  88, 108]])"
      ]
     },
     "execution_count": 32,
     "metadata": {},
     "output_type": "execute_result"
    }
   ],
   "source": [
    "# 산술연산자\n",
    "a*b"
   ]
  },
  {
   "cell_type": "code",
   "execution_count": 34,
   "id": "d8478d45",
   "metadata": {},
   "outputs": [
    {
     "data": {
      "text/plain": [
       "array([[  4,  10,  18],\n",
       "       [ 28,  40,  54],\n",
       "       [ 70,  88, 108]])"
      ]
     },
     "execution_count": 34,
     "metadata": {},
     "output_type": "execute_result"
    }
   ],
   "source": [
    "# 메서드\n",
    "np.multiply(a,b)"
   ]
  },
  {
   "cell_type": "markdown",
   "id": "e9d80a77",
   "metadata": {},
   "source": [
    "### 지수곱 표현\n",
    "\n",
    "\n",
    "- 지수(exponent) : 부동 소수점으로 숫자를 표시할 때 거듭제곱을 사용하여 표현. <br>\n",
    "(예) 2.14e+2 = 2.14 x 102 = 214 / 2.98e-8 = 2.98 x 10-8 = 0.0000000298\n",
    "\n",
    "\n",
    "- np.exp(arr) : 밑(base)이 자연상수 e 인 지수함수로 변환(y = e**x)"
   ]
  },
  {
   "cell_type": "code",
   "execution_count": 36,
   "id": "9ed34851",
   "metadata": {},
   "outputs": [
    {
     "data": {
      "text/plain": [
       "array([[1, 2, 3],\n",
       "       [4, 5, 6],\n",
       "       [7, 8, 9]])"
      ]
     },
     "execution_count": 36,
     "metadata": {},
     "output_type": "execute_result"
    }
   ],
   "source": [
    "a"
   ]
  },
  {
   "cell_type": "code",
   "execution_count": 35,
   "id": "8764a8ba",
   "metadata": {},
   "outputs": [
    {
     "data": {
      "text/plain": [
       "array([[2.71828183e+00, 7.38905610e+00, 2.00855369e+01],\n",
       "       [5.45981500e+01, 1.48413159e+02, 4.03428793e+02],\n",
       "       [1.09663316e+03, 2.98095799e+03, 8.10308393e+03]])"
      ]
     },
     "execution_count": 35,
     "metadata": {},
     "output_type": "execute_result"
    }
   ],
   "source": [
    "# 지수함수\n",
    "np.exp(a)"
   ]
  },
  {
   "cell_type": "markdown",
   "id": "afe201a7",
   "metadata": {
    "scrolled": true
   },
   "source": [
    "### 제곱근\n",
    "- np.sqrt(arr)\n",
    "<img src='img/sqrt.gif' width='400' height='200' align='left'>"
   ]
  },
  {
   "cell_type": "code",
   "execution_count": 38,
   "id": "6dfce654",
   "metadata": {},
   "outputs": [
    {
     "data": {
      "text/plain": [
       "array([[1.        , 1.41421356, 1.73205081],\n",
       "       [2.        , 2.23606798, 2.44948974],\n",
       "       [2.64575131, 2.82842712, 3.        ]])"
      ]
     },
     "execution_count": 38,
     "metadata": {},
     "output_type": "execute_result"
    }
   ],
   "source": [
    "np.sqrt(a)"
   ]
  },
  {
   "cell_type": "markdown",
   "id": "f2058b53",
   "metadata": {},
   "source": [
    "### 내적(행렬곱)\n",
    "- np.dot(a, b)\n",
    "<img src='img/dotProduct.png' width='400' height='200' align='left'>"
   ]
  },
  {
   "cell_type": "code",
   "execution_count": 40,
   "id": "b261c3d4",
   "metadata": {},
   "outputs": [
    {
     "data": {
      "text/plain": [
       "array([[  4,  10,  18],\n",
       "       [ 28,  40,  54],\n",
       "       [ 70,  88, 108]])"
      ]
     },
     "execution_count": 40,
     "metadata": {},
     "output_type": "execute_result"
    }
   ],
   "source": [
    "# 그냥 곱셈\n",
    "a*b"
   ]
  },
  {
   "cell_type": "code",
   "execution_count": 41,
   "id": "7c63c6ca",
   "metadata": {},
   "outputs": [
    {
     "data": {
      "text/plain": [
       "array([[ 48,  54,  60],\n",
       "       [111, 126, 141],\n",
       "       [174, 198, 222]])"
      ]
     },
     "execution_count": 41,
     "metadata": {},
     "output_type": "execute_result"
    }
   ],
   "source": [
    "# 행렬 \n",
    "np.dot(a,b)"
   ]
  },
  {
   "cell_type": "markdown",
   "id": "d6e8fdd5",
   "metadata": {},
   "source": [
    "### Numpy 배열 연산\n",
    "\n",
    "#### 2. 비교 연산\n",
    "\n",
    "1) 요소\n",
    "- 값에 대한 비교 : ==, !=\n",
    "- 크기에 대한 비교 : >, <, >=, <=\n",
    "\n",
    "\n",
    "2) 배열\n",
    "- 두 배열 전체에 대한 비교 : array_equal(a, b)"
   ]
  },
  {
   "cell_type": "code",
   "execution_count": 42,
   "id": "98155adc",
   "metadata": {},
   "outputs": [
    {
     "data": {
      "text/plain": [
       "array([[False, False, False],\n",
       "       [False, False, False],\n",
       "       [False, False, False]])"
      ]
     },
     "execution_count": 42,
     "metadata": {},
     "output_type": "execute_result"
    }
   ],
   "source": [
    "# 두 배열 요소에 대하여 값이 동일한지를 비교\n",
    "# 반환 : 각 요소마다의 비교결과(T/F)가 배열로 표현됨\n",
    "a==b"
   ]
  },
  {
   "cell_type": "code",
   "execution_count": 43,
   "id": "9cad144a",
   "metadata": {},
   "outputs": [
    {
     "data": {
      "text/plain": [
       "array([[ True,  True,  True],\n",
       "       [ True,  True,  True],\n",
       "       [ True,  True,  True]])"
      ]
     },
     "execution_count": 43,
     "metadata": {},
     "output_type": "execute_result"
    }
   ],
   "source": [
    "a !=b"
   ]
  },
  {
   "cell_type": "code",
   "execution_count": 44,
   "id": "9792f242",
   "metadata": {},
   "outputs": [
    {
     "data": {
      "text/plain": [
       "array([[ True,  True,  True],\n",
       "       [ True,  True,  True],\n",
       "       [ True,  True,  True]])"
      ]
     },
     "execution_count": 44,
     "metadata": {},
     "output_type": "execute_result"
    }
   ],
   "source": [
    "# 두 배열 요소에 대해 크기 비교\n",
    "a < b"
   ]
  },
  {
   "cell_type": "code",
   "execution_count": 46,
   "id": "473ff46a",
   "metadata": {},
   "outputs": [
    {
     "data": {
      "text/plain": [
       "False"
      ]
     },
     "execution_count": 46,
     "metadata": {},
     "output_type": "execute_result"
    }
   ],
   "source": [
    "# 두 배열이 완저히 일치하는지 여부만 조회\n",
    "# 하나의 True/False로 반환\n",
    "np.array_equal(a, b)"
   ]
  },
  {
   "cell_type": "markdown",
   "id": "5109445e",
   "metadata": {},
   "source": [
    "### Numpy 배열 연산\n",
    "3. 집계 함수\n",
    "    - Numpy 배열에 대해 집계 함수를 적용할 때는 반드시 axis로 설정된 기준에 따라 연산 수행\n",
    "    - 별도로 값을 지정하지 않으면 기본값은 axis = None으로 지정\n",
    "    - axis\n",
    "        - axis = None <br>\n",
    "        전체 데이터를 하나의 배열로 간주하고 집계 함수의 연산 범위를 전체 배열로 지정\n",
    "        <br>\n",
    "        <img src='img/axis_None.jpg' width='150' height='150' align='left'>\n",
    "        <br>\n",
    "        <br>\n",
    "        <br>\n",
    "        <br>\n",
    "        <br>\n",
    "        <br>\n",
    "        <br>\n",
    "        <br>\n",
    "        <br>\n",
    "        <br>\n",
    "        - axis = 0 <br>\n",
    "        열을 기준으로 동일한 열에 있는 요소를 하나의 그룹으로 묶어 집계 함수의 연산 범위로 지정\n",
    "        <br>\n",
    "        <img src='img/axis_0.jpg' width='150' height='150' align='left'>\n",
    "        <br>\n",
    "        <br>\n",
    "        <br>\n",
    "        <br>\n",
    "        <br>\n",
    "        <br>\n",
    "        <br>\n",
    "        <br>\n",
    "        <br>\n",
    "        <br>\n",
    "        - axis = 1 <br>\n",
    "        행을 기준으로 동일한 행에 있는 요소를 하나의 그룹으로 묶어 집계 함수의 연산 범위로 지정\n",
    "        <br>\n",
    "        <img src='img/axis_1.jpg' width='150' height='150' align='left'>\n",
    "        <br>\n",
    "        <br>\n",
    "        <br>\n",
    "        <br>\n",
    "        <br>\n",
    "        <br>\n",
    "        <br>\n",
    "        <br>\n",
    "        <br>\n",
    "        <br>\n",
    "    - 집계 함수 : 배열객체에 대한 메소드로 사용하거나 Numpy 라이브러리의 메소드로 사용하는 두 가지 방법\n",
    "        - 합계 : sum()\n",
    "        - 최소값 : min()\n",
    "        - 최대값 : max()\n",
    "        - 누적 합계 : cumsum()\n",
    "        - 평균 : mean()\n",
    "        - 중앙값 : median()\n",
    "            - 크기 순으로 나열된 데이터에 대해 중앙에 위치하는 값\n",
    "        - 상관계수 : corrcoef()\n",
    "            - 데이터 간의 상관관계를 나타내는 수치(-1 <= r <= 1)\n",
    "        - 표준편차 : std()\n",
    "            - 분산의 제곱근, 데이터가 평균으로부터 흩어져 있는 정도\n",
    "            - 분산 = 편차(요소-전체평균)제곱의 평균\n",
    "        - 고유값 : unique()"
   ]
  },
  {
   "cell_type": "code",
   "execution_count": 47,
   "id": "dcbb7787",
   "metadata": {},
   "outputs": [
    {
     "name": "stdout",
     "output_type": "stream",
     "text": [
      "\n",
      "    type : <class 'numpy.ndarray'>\n",
      "    shape : (3, 3)\n",
      "    dimension : 2\n",
      "    dtype : int32\n",
      "    data : \n",
      " [[1 2 3]\n",
      " [4 5 6]\n",
      " [7 8 9]]\n"
     ]
    }
   ],
   "source": [
    "# 사용할 배열 객체 확인\n",
    "np_print(a)"
   ]
  },
  {
   "cell_type": "code",
   "execution_count": 48,
   "id": "3d838faa",
   "metadata": {},
   "outputs": [
    {
     "data": {
      "text/plain": [
       "45"
      ]
     },
     "execution_count": 48,
     "metadata": {},
     "output_type": "execute_result"
    }
   ],
   "source": [
    "# 합계 - 전체 기준 => 모든 요소에 대한 합\n",
    "# 1) 배열 타입의 메서드 : arr.sum()\n",
    "# 2) numpy 함수 : np.sum(arr)\n",
    "a.sum()"
   ]
  },
  {
   "cell_type": "code",
   "execution_count": 49,
   "id": "3e7d714e",
   "metadata": {},
   "outputs": [
    {
     "data": {
      "text/plain": [
       "45"
      ]
     },
     "execution_count": 49,
     "metadata": {},
     "output_type": "execute_result"
    }
   ],
   "source": [
    "np.sum(a)"
   ]
  },
  {
   "cell_type": "code",
   "execution_count": 50,
   "id": "72e34fef",
   "metadata": {},
   "outputs": [
    {
     "name": "stdout",
     "output_type": "stream",
     "text": [
      "[46 62 78]\n",
      "[[10 11 12 13]\n",
      " [14 15 16 17]\n",
      " [18 19 20 21]]\n"
     ]
    }
   ],
   "source": [
    "# 합계 - row, 가로축별 합산\n",
    "# 메서드, np함수의 파라미터값 : axis=1\n",
    "# 결과값 : [0번 row의 합, 1번 row의 합, 2번 row의 합...]\n",
    "print(c.sum(axis=1))\n",
    "print(c)"
   ]
  },
  {
   "cell_type": "code",
   "execution_count": 51,
   "id": "361abb02",
   "metadata": {},
   "outputs": [
    {
     "name": "stdout",
     "output_type": "stream",
     "text": [
      "[42 45 48 51]\n",
      "[[10 11 12 13]\n",
      " [14 15 16 17]\n",
      " [18 19 20 21]]\n"
     ]
    }
   ],
   "source": [
    "# 합계 - colum, 세로축별 합산 결과\n",
    "# 메서드, np함수의 파라미터값 : axis=0\n",
    "# 결과값 : [0번째 colum합, 1번째 colum합, 2번째  colum합....]\n",
    "print(c.sum(axis=0))\n",
    "print(c)"
   ]
  },
  {
   "cell_type": "code",
   "execution_count": 53,
   "id": "cd27a5a8",
   "metadata": {},
   "outputs": [
    {
     "data": {
      "text/plain": [
       "10"
      ]
     },
     "execution_count": 53,
     "metadata": {},
     "output_type": "execute_result"
    }
   ],
   "source": [
    "# 최소값 - 전체 기준\n",
    "# 1) 배열 타입의 메서드 : arr.min()\n",
    "# 2) numpy 함수 : np.min(arr)\n",
    "c.min()\n",
    "np.min(c)"
   ]
  },
  {
   "cell_type": "code",
   "execution_count": 55,
   "id": "ce617bf3",
   "metadata": {},
   "outputs": [
    {
     "data": {
      "text/plain": [
       "1"
      ]
     },
     "execution_count": 55,
     "metadata": {},
     "output_type": "execute_result"
    }
   ],
   "source": [
    "# (참고) 파이썬 리스트에서 최소값 찾기\n",
    "x = [1, 2, 3, 4]\n",
    "min(x)"
   ]
  },
  {
   "cell_type": "code",
   "execution_count": 57,
   "id": "ccb42d34",
   "metadata": {},
   "outputs": [
    {
     "name": "stdout",
     "output_type": "stream",
     "text": [
      "[10 14 18]\n",
      "[[10 11 12 13]\n",
      " [14 15 16 17]\n",
      " [18 19 20 21]]\n",
      "[10 14 18]\n"
     ]
    }
   ],
   "source": [
    "# 최소값 - 각, 가로축(row)별 최소값 찾기\n",
    "# 결과값 : [0번째row 최소값, 1번째 row 최소값...]\n",
    "print(c.min(axis=1))\n",
    "print(c)\n",
    "print(np.min(c, axis=1))"
   ]
  },
  {
   "cell_type": "code",
   "execution_count": 65,
   "id": "e62b57a2",
   "metadata": {},
   "outputs": [
    {
     "data": {
      "text/plain": [
       "21"
      ]
     },
     "execution_count": 65,
     "metadata": {},
     "output_type": "execute_result"
    }
   ],
   "source": [
    "# 최대값 - 전체기준\n",
    "# 1) 배열 타입의 메서드 : arr.max()\n",
    "# 2) numpy함수 : np.max(arr)\n",
    "c.max(axis=1)\n",
    "np.max(c)"
   ]
  },
  {
   "cell_type": "code",
   "execution_count": 66,
   "id": "7e4e4141",
   "metadata": {},
   "outputs": [
    {
     "data": {
      "text/plain": [
       "array([13, 17, 21])"
      ]
     },
     "execution_count": 66,
     "metadata": {},
     "output_type": "execute_result"
    }
   ],
   "source": [
    "# 최대값 - 가로축 기준(row)\n",
    "c.max(axis=1)"
   ]
  },
  {
   "cell_type": "code",
   "execution_count": 76,
   "id": "1d2d37fb",
   "metadata": {},
   "outputs": [
    {
     "data": {
      "text/plain": [
       "array([18, 19, 20, 21])"
      ]
     },
     "execution_count": 76,
     "metadata": {},
     "output_type": "execute_result"
    }
   ],
   "source": [
    "# 최대값 - 세로축 기준(column)\n",
    "c.max(axis=0)"
   ]
  },
  {
   "cell_type": "code",
   "execution_count": 70,
   "id": "c1e1a8f6",
   "metadata": {},
   "outputs": [
    {
     "data": {
      "text/plain": [
       "186"
      ]
     },
     "execution_count": 70,
     "metadata": {},
     "output_type": "execute_result"
    }
   ],
   "source": [
    "# 누적합계 - 전체 기준\n",
    "# 1) 배열 타입의 메서드 : c.cumsum()\n",
    "# 2) numpy 함수 : np.comsum()\n",
    "# 결과값 :\n",
    "c.sum()"
   ]
  },
  {
   "cell_type": "code",
   "execution_count": 71,
   "id": "b3b3c82b",
   "metadata": {},
   "outputs": [
    {
     "data": {
      "text/plain": [
       "array([ 10,  21,  33,  46,  60,  75,  91, 108, 126, 145, 165, 186],\n",
       "      dtype=int32)"
      ]
     },
     "execution_count": 71,
     "metadata": {},
     "output_type": "execute_result"
    }
   ],
   "source": [
    "c.cumsum()"
   ]
  },
  {
   "cell_type": "code",
   "execution_count": 72,
   "id": "f530029f",
   "metadata": {},
   "outputs": [
    {
     "data": {
      "text/plain": [
       "array([[10, 21, 33, 46],\n",
       "       [14, 29, 45, 62],\n",
       "       [18, 37, 57, 78]], dtype=int32)"
      ]
     },
     "execution_count": 72,
     "metadata": {},
     "output_type": "execute_result"
    }
   ],
   "source": [
    "# 누적합계 - 가로축(row) 기준\n",
    "c.cumsum(axis=1)"
   ]
  },
  {
   "cell_type": "code",
   "execution_count": 75,
   "id": "cb6ce468",
   "metadata": {},
   "outputs": [
    {
     "data": {
      "text/plain": [
       "array([[10, 11, 12, 13],\n",
       "       [24, 26, 28, 30],\n",
       "       [42, 45, 48, 51]], dtype=int32)"
      ]
     },
     "execution_count": 75,
     "metadata": {},
     "output_type": "execute_result"
    }
   ],
   "source": [
    "# 누적합계 - 세로축 기준\n",
    "c.cumsum(axis=0)"
   ]
  },
  {
   "cell_type": "code",
   "execution_count": 84,
   "id": "2731ea11",
   "metadata": {},
   "outputs": [
    {
     "name": "stdout",
     "output_type": "stream",
     "text": [
      "15.5\n",
      "15.5\n"
     ]
    }
   ],
   "source": [
    "# 평균 - 전체 기준\n",
    "# 1) 배열 타입의 메서드 : arr.mean()\n",
    "# 2) numpy 함수 : np.mean(arr)\n",
    "print(c.mean())\n",
    "print(np.mean(c))"
   ]
  },
  {
   "cell_type": "code",
   "execution_count": 85,
   "id": "72d76cf2",
   "metadata": {},
   "outputs": [
    {
     "name": "stdout",
     "output_type": "stream",
     "text": [
      "[11.5 15.5 19.5]\n"
     ]
    }
   ],
   "source": [
    "# 평균 - 가로축 기준\n",
    "print(c.mean(axis=1))"
   ]
  },
  {
   "cell_type": "code",
   "execution_count": 86,
   "id": "453d2f44",
   "metadata": {},
   "outputs": [
    {
     "name": "stdout",
     "output_type": "stream",
     "text": [
      "[14. 15. 16. 17.]\n"
     ]
    }
   ],
   "source": [
    "# 평균 - 세로축 기준\n",
    "print(c.mean(axis=0))"
   ]
  },
  {
   "cell_type": "code",
   "execution_count": 87,
   "id": "83ac2706",
   "metadata": {},
   "outputs": [
    {
     "data": {
      "text/plain": [
       "array([[10, 11, 12, 13],\n",
       "       [14, 15, 16, 17],\n",
       "       [18, 19, 20, 21]])"
      ]
     },
     "execution_count": 87,
     "metadata": {},
     "output_type": "execute_result"
    }
   ],
   "source": [
    "c"
   ]
  },
  {
   "cell_type": "code",
   "execution_count": 89,
   "id": "aa424517",
   "metadata": {},
   "outputs": [
    {
     "data": {
      "text/plain": [
       "15.5"
      ]
     },
     "execution_count": 89,
     "metadata": {},
     "output_type": "execute_result"
    }
   ],
   "source": [
    "# 중앙값 - 전체 기준\n",
    "# numpy 함수 : np.mediun() 반드시 np붙어야 작동\n",
    "# arr.median()을 쓸 수 없음\n",
    "# c.median() 불가능\n",
    "np.median(c)"
   ]
  },
  {
   "cell_type": "code",
   "execution_count": 100,
   "id": "76454a74",
   "metadata": {},
   "outputs": [
    {
     "data": {
      "text/plain": [
       "array([11.5, 15.5, 19.5])"
      ]
     },
     "execution_count": 100,
     "metadata": {},
     "output_type": "execute_result"
    }
   ],
   "source": [
    "# 중앙값 - 가로축 기준\n",
    "np.median(c, axis=1)"
   ]
  },
  {
   "cell_type": "code",
   "execution_count": 101,
   "id": "ddc3afc5",
   "metadata": {},
   "outputs": [
    {
     "data": {
      "text/plain": [
       "array([14., 15., 16., 17.])"
      ]
     },
     "execution_count": 101,
     "metadata": {},
     "output_type": "execute_result"
    }
   ],
   "source": [
    "# 중앙값 - 세로축 기준\n",
    "np.median(c, axis=0)"
   ]
  },
  {
   "cell_type": "code",
   "execution_count": 103,
   "id": "d74d72e4",
   "metadata": {},
   "outputs": [],
   "source": [
    "# 상관계수 : 두 데이터간의 상관관계(양/음의 삼각관계)\n",
    "# numpy 함수 : np.corrcoef(arr1,arr2)\n",
    "x = np.array([15, 12, 27, 37, 29])\n",
    "y = np.array([1, 4, 2, 9, 7])"
   ]
  },
  {
   "cell_type": "code",
   "execution_count": 104,
   "id": "2ff1215f",
   "metadata": {},
   "outputs": [
    {
     "name": "stdout",
     "output_type": "stream",
     "text": [
      "[15 12 27 37 29]\n",
      "[1 4 2 9 7]\n",
      "[[1.         0.72615657]\n",
      " [0.72615657 1.        ]]\n"
     ]
    }
   ],
   "source": [
    "# 서로 다른 배열 2개를 활용한 상관계수 matrix\n",
    "# 결과 : 대칭형 매트릭스(대각선을 경계로 상위,하위 삼각형 중 하나만 해석해도 된다)\n",
    "# 오른쪽 아래를 향하는 대각선은 자기 자신과의 상관관계(항상1)\n",
    "print(x)\n",
    "print(y)\n",
    "print(np.corrcoef(x,y))"
   ]
  },
  {
   "cell_type": "code",
   "execution_count": 111,
   "id": "80cf8881",
   "metadata": {
    "collapsed": true
   },
   "outputs": [
    {
     "ename": "ValueError",
     "evalue": "The truth value of an array with more than one element is ambiguous. Use a.any() or a.all()",
     "output_type": "error",
     "traceback": [
      "\u001b[1;31m---------------------------------------------------------------------------\u001b[0m",
      "\u001b[1;31mValueError\u001b[0m                                Traceback (most recent call last)",
      "Input \u001b[1;32mIn [111]\u001b[0m, in \u001b[0;36m<cell line: 4>\u001b[1;34m()\u001b[0m\n\u001b[0;32m      1\u001b[0m \u001b[38;5;66;03m# numpy 에서는 3개요소를 이용한 상관도를 구하는것이 불가능\u001b[39;00m\n\u001b[0;32m      2\u001b[0m \u001b[38;5;66;03m# 팬더스를 이용하는 경우는 2개씩 짝지은 모든 경우의수를 구해준다\u001b[39;00m\n\u001b[0;32m      3\u001b[0m z \u001b[38;5;241m=\u001b[39m np\u001b[38;5;241m.\u001b[39marray([\u001b[38;5;241m0.3\u001b[39m,\u001b[38;5;241m0.5\u001b[39m,\u001b[38;5;241m0.6\u001b[39m,\u001b[38;5;241m0.8\u001b[39m,\u001b[38;5;241m1.3\u001b[39m])\n\u001b[1;32m----> 4\u001b[0m \u001b[43mnp\u001b[49m\u001b[38;5;241;43m.\u001b[39;49m\u001b[43mcorrcoef\u001b[49m\u001b[43m(\u001b[49m\u001b[43mx\u001b[49m\u001b[43m,\u001b[49m\u001b[43my\u001b[49m\u001b[43m,\u001b[49m\u001b[43mz\u001b[49m\u001b[43m)\u001b[49m\n",
      "File \u001b[1;32m<__array_function__ internals>:5\u001b[0m, in \u001b[0;36mcorrcoef\u001b[1;34m(*args, **kwargs)\u001b[0m\n",
      "File \u001b[1;32m~\\Anaconda3\\lib\\site-packages\\numpy\\lib\\function_base.py:2683\u001b[0m, in \u001b[0;36mcorrcoef\u001b[1;34m(x, y, rowvar, bias, ddof, dtype)\u001b[0m\n\u001b[0;32m   2679\u001b[0m \u001b[38;5;28;01mif\u001b[39;00m bias \u001b[38;5;129;01mis\u001b[39;00m \u001b[38;5;129;01mnot\u001b[39;00m np\u001b[38;5;241m.\u001b[39m_NoValue \u001b[38;5;129;01mor\u001b[39;00m ddof \u001b[38;5;129;01mis\u001b[39;00m \u001b[38;5;129;01mnot\u001b[39;00m np\u001b[38;5;241m.\u001b[39m_NoValue:\n\u001b[0;32m   2680\u001b[0m     \u001b[38;5;66;03m# 2015-03-15, 1.10\u001b[39;00m\n\u001b[0;32m   2681\u001b[0m     warnings\u001b[38;5;241m.\u001b[39mwarn(\u001b[38;5;124m'\u001b[39m\u001b[38;5;124mbias and ddof have no effect and are deprecated\u001b[39m\u001b[38;5;124m'\u001b[39m,\n\u001b[0;32m   2682\u001b[0m                   \u001b[38;5;167;01mDeprecationWarning\u001b[39;00m, stacklevel\u001b[38;5;241m=\u001b[39m\u001b[38;5;241m3\u001b[39m)\n\u001b[1;32m-> 2683\u001b[0m c \u001b[38;5;241m=\u001b[39m \u001b[43mcov\u001b[49m\u001b[43m(\u001b[49m\u001b[43mx\u001b[49m\u001b[43m,\u001b[49m\u001b[43m \u001b[49m\u001b[43my\u001b[49m\u001b[43m,\u001b[49m\u001b[43m \u001b[49m\u001b[43mrowvar\u001b[49m\u001b[43m,\u001b[49m\u001b[43m \u001b[49m\u001b[43mdtype\u001b[49m\u001b[38;5;241;43m=\u001b[39;49m\u001b[43mdtype\u001b[49m\u001b[43m)\u001b[49m\n\u001b[0;32m   2684\u001b[0m \u001b[38;5;28;01mtry\u001b[39;00m:\n\u001b[0;32m   2685\u001b[0m     d \u001b[38;5;241m=\u001b[39m diag(c)\n",
      "File \u001b[1;32m<__array_function__ internals>:5\u001b[0m, in \u001b[0;36mcov\u001b[1;34m(*args, **kwargs)\u001b[0m\n",
      "File \u001b[1;32m~\\Anaconda3\\lib\\site-packages\\numpy\\lib\\function_base.py:2469\u001b[0m, in \u001b[0;36mcov\u001b[1;34m(m, y, rowvar, bias, ddof, fweights, aweights, dtype)\u001b[0m\n\u001b[0;32m   2466\u001b[0m         dtype \u001b[38;5;241m=\u001b[39m np\u001b[38;5;241m.\u001b[39mresult_type(m, y, np\u001b[38;5;241m.\u001b[39mfloat64)\n\u001b[0;32m   2468\u001b[0m X \u001b[38;5;241m=\u001b[39m array(m, ndmin\u001b[38;5;241m=\u001b[39m\u001b[38;5;241m2\u001b[39m, dtype\u001b[38;5;241m=\u001b[39mdtype)\n\u001b[1;32m-> 2469\u001b[0m \u001b[38;5;28;01mif\u001b[39;00m \u001b[38;5;129;01mnot\u001b[39;00m rowvar \u001b[38;5;129;01mand\u001b[39;00m X\u001b[38;5;241m.\u001b[39mshape[\u001b[38;5;241m0\u001b[39m] \u001b[38;5;241m!=\u001b[39m \u001b[38;5;241m1\u001b[39m:\n\u001b[0;32m   2470\u001b[0m     X \u001b[38;5;241m=\u001b[39m X\u001b[38;5;241m.\u001b[39mT\n\u001b[0;32m   2471\u001b[0m \u001b[38;5;28;01mif\u001b[39;00m X\u001b[38;5;241m.\u001b[39mshape[\u001b[38;5;241m0\u001b[39m] \u001b[38;5;241m==\u001b[39m \u001b[38;5;241m0\u001b[39m:\n",
      "\u001b[1;31mValueError\u001b[0m: The truth value of an array with more than one element is ambiguous. Use a.any() or a.all()"
     ]
    }
   ],
   "source": [
    "# numpy 에서는 3개요소를 이용한 상관도를 구하는것이 불가능\n",
    "# 팬더스를 이용하는 경우는 2개씩 짝지은 모든 경우의수를 구해준다\n",
    "z = np.array([0.3,0.5,0.6,0.8,1.3])\n",
    "np.corrcoef(x,y,z)"
   ]
  },
  {
   "cell_type": "code",
   "execution_count": 112,
   "id": "dd113bff",
   "metadata": {},
   "outputs": [
    {
     "data": {
      "text/plain": [
       "array([[1, 2, 3],\n",
       "       [4, 5, 6],\n",
       "       [7, 8, 9]])"
      ]
     },
     "execution_count": 112,
     "metadata": {},
     "output_type": "execute_result"
    }
   ],
   "source": [
    "# 표준편차 - 전체기준\n",
    "# 1) 배열 타입의 메서드 : arr.std()\n",
    "# 2) numpy 함수 : np.std(arr)\n",
    "a"
   ]
  },
  {
   "cell_type": "code",
   "execution_count": 118,
   "id": "6c30e55e",
   "metadata": {},
   "outputs": [
    {
     "data": {
      "text/plain": [
       "2.581988897471611"
      ]
     },
     "execution_count": 118,
     "metadata": {},
     "output_type": "execute_result"
    }
   ],
   "source": [
    "# 전체\n",
    "# print(np.std(a))\n",
    "a.std()"
   ]
  },
  {
   "cell_type": "code",
   "execution_count": 116,
   "id": "07718d33",
   "metadata": {},
   "outputs": [
    {
     "name": "stdout",
     "output_type": "stream",
     "text": [
      "[0.81649658 0.81649658 0.81649658]\n"
     ]
    }
   ],
   "source": [
    "# 세로축\n",
    "# print(np.std(a, axis=0))\n",
    "a.std(axis=0)"
   ]
  },
  {
   "cell_type": "code",
   "execution_count": 119,
   "id": "f1737436",
   "metadata": {},
   "outputs": [
    {
     "data": {
      "text/plain": [
       "array([0.81649658, 0.81649658, 0.81649658])"
      ]
     },
     "execution_count": 119,
     "metadata": {},
     "output_type": "execute_result"
    }
   ],
   "source": [
    "# 가로축\n",
    "# print(np.std(a, axis=1))\n",
    "a.std(axis=1)"
   ]
  },
  {
   "cell_type": "markdown",
   "id": "64b75498",
   "metadata": {},
   "source": [
    "#### 브로드캐스팅(BroadCasting)\n",
    "\n",
    "\n",
    "- 서로 다른 구조(shape)를 가진 배열에 대해 연산을 수행할 때 구조를 맞추는 과정\n",
    "\n",
    "- 배열과 스칼라값 간의 연산\n",
    "\n",
    "- 배열과 배열 간의 연산\n",
    "\n",
    "- 브로드캐스팅 규칙 : 축의 길이가 일치하거나 둘 중 하나의 길이가 1인 두 배열에 대해 호환성을 가짐\n",
    "\n",
    "<img src='img/broadcast.png' width='600' height='400' align='left'>"
   ]
  },
  {
   "cell_type": "code",
   "execution_count": 120,
   "id": "3186ea28",
   "metadata": {},
   "outputs": [
    {
     "name": "stdout",
     "output_type": "stream",
     "text": [
      "\n",
      "    type : <class 'numpy.ndarray'>\n",
      "    shape : (3, 3)\n",
      "    dimension : 2\n",
      "    dtype : int32\n",
      "    data : \n",
      " [[1 2 3]\n",
      " [4 5 6]\n",
      " [7 8 9]]\n",
      "\n",
      "    type : <class 'numpy.ndarray'>\n",
      "    shape : (3, 3)\n",
      "    dimension : 2\n",
      "    dtype : int32\n",
      "    data : \n",
      " [[ 4  5  6]\n",
      " [ 7  8  9]\n",
      " [10 11 12]]\n"
     ]
    }
   ],
   "source": [
    "# 사용할 배열 객체 확인\n",
    "np_print(a)\n",
    "np_print(b)"
   ]
  },
  {
   "cell_type": "code",
   "execution_count": 121,
   "id": "5d4509ed",
   "metadata": {},
   "outputs": [
    {
     "data": {
      "text/plain": [
       "array([[ 5,  7,  9],\n",
       "       [11, 13, 15],\n",
       "       [17, 19, 21]])"
      ]
     },
     "execution_count": 121,
     "metadata": {},
     "output_type": "execute_result"
    }
   ],
   "source": [
    "a + b"
   ]
  },
  {
   "cell_type": "markdown",
   "id": "ba117db2",
   "metadata": {},
   "source": [
    "#### 1. 배열과 값(single value, scala)\n",
    "\n",
    "- 스칼라 값을 배열의 구조와 동일한 배열로 변형하여 연산 수행"
   ]
  },
  {
   "cell_type": "code",
   "execution_count": 122,
   "id": "d48bb168",
   "metadata": {},
   "outputs": [
    {
     "data": {
      "text/plain": [
       "array([[11, 12, 13],\n",
       "       [14, 15, 16],\n",
       "       [17, 18, 19]])"
      ]
     },
     "execution_count": 122,
     "metadata": {},
     "output_type": "execute_result"
    }
   ],
   "source": [
    "# 구조가 다른 배열간의 연산\n",
    "# a배열의 모든 요소에 각각 10씩 더하기\n",
    "a+10"
   ]
  },
  {
   "cell_type": "code",
   "execution_count": 123,
   "id": "6a1e94d3",
   "metadata": {},
   "outputs": [
    {
     "name": "stdout",
     "output_type": "stream",
     "text": [
      "\n",
      "    type : <class 'numpy.ndarray'>\n",
      "    shape : (3, 3)\n",
      "    dimension : 2\n",
      "    dtype : int32\n",
      "    data : \n",
      " [[10 10 10]\n",
      " [10 10 10]\n",
      " [10 10 10]]\n"
     ]
    }
   ],
   "source": [
    "# 스칼라 -> 배열 변형\n",
    "# 3해 3열의 구조에 모든 요소가 10인 배열 생성\n",
    "scalar_arr = np.full_like(a,10)\n",
    "np_print(scalar_arr)"
   ]
  },
  {
   "cell_type": "code",
   "execution_count": 124,
   "id": "b10ec5b1",
   "metadata": {},
   "outputs": [
    {
     "data": {
      "text/plain": [
       "array([[11, 12, 13],\n",
       "       [14, 15, 16],\n",
       "       [17, 18, 19]])"
      ]
     },
     "execution_count": 124,
     "metadata": {},
     "output_type": "execute_result"
    }
   ],
   "source": [
    "a + scalar_arr"
   ]
  },
  {
   "cell_type": "markdown",
   "id": "a3fb229f",
   "metadata": {},
   "source": [
    "#### 2. 서로 다른 구조의 배열\n",
    "\n",
    "- 행, 열의 최대 길이를 기준으로 구조를 생성한 배열로 변형하여 연산 수행\n",
    "- 확장된 행, 열에 대해서 기존 배열과 동일한 데이터로 구성"
   ]
  },
  {
   "cell_type": "code",
   "execution_count": 125,
   "id": "bbcc9d53",
   "metadata": {},
   "outputs": [],
   "source": [
    "# 1행 4열의 구조에서 1, 2, 3, 4를 값으로 가지는 배열 x 생성\n",
    "# 4행 1열의 구조에서 1, 2, 3, 4를 값으로 가지는 배열 y 생성\n",
    "x = np.arange(1,5).reshape(1,4)\n",
    "y = np.arange(1,5).reshape(4,1)"
   ]
  },
  {
   "cell_type": "code",
   "execution_count": 126,
   "id": "06d44984",
   "metadata": {},
   "outputs": [
    {
     "name": "stdout",
     "output_type": "stream",
     "text": [
      "\n",
      "    type : <class 'numpy.ndarray'>\n",
      "    shape : (1, 4)\n",
      "    dimension : 2\n",
      "    dtype : int32\n",
      "    data : \n",
      " [[1 2 3 4]]\n",
      "\n",
      "    type : <class 'numpy.ndarray'>\n",
      "    shape : (4, 1)\n",
      "    dimension : 2\n",
      "    dtype : int32\n",
      "    data : \n",
      " [[1]\n",
      " [2]\n",
      " [3]\n",
      " [4]]\n"
     ]
    }
   ],
   "source": [
    "np_print(x)\n",
    "np_print(y)"
   ]
  },
  {
   "cell_type": "code",
   "execution_count": 127,
   "id": "7ef11dfd",
   "metadata": {},
   "outputs": [
    {
     "data": {
      "text/plain": [
       "array([[1, 2, 3, 4],\n",
       "       [1, 2, 3, 4]])"
      ]
     },
     "execution_count": 127,
     "metadata": {},
     "output_type": "execute_result"
    }
   ],
   "source": [
    "# 배열 x를 동일한 값으로 4행으로 확장한 새로운 배열 생성\n",
    "# 행 방향으로 배열 추가(세로길이 증가) 메서드 : np.append(arr1, arr2,axis=0)\n",
    "new_x = np.append(x, x, axis=0)\n",
    "new_x"
   ]
  },
  {
   "cell_type": "code",
   "execution_count": 136,
   "id": "3b3afeeb",
   "metadata": {},
   "outputs": [
    {
     "data": {
      "text/plain": [
       "array([[1, 2, 3, 4],\n",
       "       [1, 2, 3, 4],\n",
       "       [1, 2, 3, 4],\n",
       "       [1, 2, 3, 4],\n",
       "       [1, 2, 3, 4],\n",
       "       [1, 2, 3, 4],\n",
       "       [1, 2, 3, 4],\n",
       "       [1, 2, 3, 4]])"
      ]
     },
     "execution_count": 136,
     "metadata": {},
     "output_type": "execute_result"
    }
   ],
   "source": [
    "# 이걸 다시 4줄로 만들어주세요\n",
    "new_x = np.append(new_x,new_x,axis=0)\n",
    "new_x"
   ]
  },
  {
   "cell_type": "code",
   "execution_count": 129,
   "id": "f682c104",
   "metadata": {},
   "outputs": [
    {
     "data": {
      "text/plain": [
       "array([[1, 1],\n",
       "       [2, 2],\n",
       "       [3, 3],\n",
       "       [4, 4]])"
      ]
     },
     "execution_count": 129,
     "metadata": {},
     "output_type": "execute_result"
    }
   ],
   "source": [
    "# 배열 y도 위의 수순대로 4열까지 확장한 새로운 배열로 저장해주세요.\n",
    "# 열 방향으로(colum갯수 증가)배열 추가 메서드 np.append(), 방향 = 1\n",
    "new_y = np.append(y,y,axis=1)\n",
    "new_y"
   ]
  },
  {
   "cell_type": "code",
   "execution_count": 133,
   "id": "1a9084e3",
   "metadata": {},
   "outputs": [
    {
     "data": {
      "text/plain": [
       "array([[1, 1, 1, 1, 1, 1, 1, 1, 1, 1, 1, 1, 1, 1, 1, 1],\n",
       "       [2, 2, 2, 2, 2, 2, 2, 2, 2, 2, 2, 2, 2, 2, 2, 2],\n",
       "       [3, 3, 3, 3, 3, 3, 3, 3, 3, 3, 3, 3, 3, 3, 3, 3],\n",
       "       [4, 4, 4, 4, 4, 4, 4, 4, 4, 4, 4, 4, 4, 4, 4, 4]])"
      ]
     },
     "execution_count": 133,
     "metadata": {},
     "output_type": "execute_result"
    }
   ],
   "source": [
    "new_y = np.append(new_y,new_y, axis=1)\n",
    "new_y"
   ]
  },
  {
   "cell_type": "code",
   "execution_count": 134,
   "id": "139e2cb4",
   "metadata": {},
   "outputs": [
    {
     "data": {
      "text/plain": [
       "array([[2, 3, 4, 5],\n",
       "       [3, 4, 5, 6],\n",
       "       [4, 5, 6, 7],\n",
       "       [5, 6, 7, 8]])"
      ]
     },
     "execution_count": 134,
     "metadata": {},
     "output_type": "execute_result"
    }
   ],
   "source": [
    "x + y "
   ]
  },
  {
   "cell_type": "code",
   "execution_count": 135,
   "id": "d25861a6",
   "metadata": {
    "scrolled": true
   },
   "outputs": [
    {
     "ename": "ValueError",
     "evalue": "operands could not be broadcast together with shapes (4,4) (4,16) ",
     "output_type": "error",
     "traceback": [
      "\u001b[1;31m---------------------------------------------------------------------------\u001b[0m",
      "\u001b[1;31mValueError\u001b[0m                                Traceback (most recent call last)",
      "Input \u001b[1;32mIn [135]\u001b[0m, in \u001b[0;36m<cell line: 1>\u001b[1;34m()\u001b[0m\n\u001b[1;32m----> 1\u001b[0m \u001b[43mnew_x\u001b[49m\u001b[43m \u001b[49m\u001b[38;5;241;43m+\u001b[39;49m\u001b[43m \u001b[49m\u001b[43mnew_y\u001b[49m\n",
      "\u001b[1;31mValueError\u001b[0m: operands could not be broadcast together with shapes (4,4) (4,16) "
     ]
    }
   ],
   "source": [
    "new_x + new_y"
   ]
  }
 ],
 "metadata": {
  "kernelspec": {
   "display_name": "Python 3 (ipykernel)",
   "language": "python",
   "name": "python3"
  },
  "language_info": {
   "codemirror_mode": {
    "name": "ipython",
    "version": 3
   },
   "file_extension": ".py",
   "mimetype": "text/x-python",
   "name": "python",
   "nbconvert_exporter": "python",
   "pygments_lexer": "ipython3",
   "version": "3.9.12"
  }
 },
 "nbformat": 4,
 "nbformat_minor": 5
}
